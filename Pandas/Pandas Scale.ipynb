{
 "cells": [
  {
   "cell_type": "code",
   "execution_count": 1,
   "metadata": {},
   "outputs": [],
   "source": [
    "# Scale\n",
    "\n",
    "# in pandas there are some scale which is neccessary to understand \n",
    "# Ratio Scale\n",
    "# Interval Scale\n",
    "# Ordinal Scale\n",
    "# Nominal scale\n",
    "\n"
   ]
  },
  {
   "cell_type": "markdown",
   "metadata": {},
   "source": [
    "ratio scale\n",
    "\n",
    "- units are equally spaced\n",
    "- mathematical operations are valid\n",
    "- height and weight\n",
    "\n",
    "interval scale\n",
    "\n",
    "- units are equally spaced\n",
    "- every data has some meaning even zero vaue\n",
    "- ie. there is no true zero\n",
    "- temprature data , compass data\n",
    "\n",
    "ordinal scale\n",
    "\n",
    "- order of data is imp however not equally spaced\n",
    "- grades in particular subject of a class\n",
    "- most of the data in machine learning\n",
    "\n",
    "nominal scale\n",
    "\n",
    "- categories of data but the categories have no order ert one another\n",
    "- teams of a sport\n",
    "\n",
    "\n",
    "\n",
    "\n"
   ]
  },
  {
   "cell_type": "code",
   "execution_count": null,
   "metadata": {},
   "outputs": [],
   "source": []
  }
 ],
 "metadata": {
  "kernelspec": {
   "display_name": "Python 3",
   "language": "python",
   "name": "python3"
  },
  "language_info": {
   "codemirror_mode": {
    "name": "ipython",
    "version": 3
   },
   "file_extension": ".py",
   "mimetype": "text/x-python",
   "name": "python",
   "nbconvert_exporter": "python",
   "pygments_lexer": "ipython3",
   "version": "3.7.3"
  }
 },
 "nbformat": 4,
 "nbformat_minor": 2
}
