{
 "cells": [
  {
   "cell_type": "code",
   "execution_count": 1,
   "metadata": {},
   "outputs": [],
   "source": [
    "# Pandas is open source python package that is widely used for data analysis\n",
    "# / data science.\n",
    "\n",
    "# Pandas has a numerous builtin function that makes data scientist easier to perform various activities.\n",
    "# Such as, Data Manipulation\n",
    "# Data Cleansing\n",
    "# Data Fill\n",
    "# Data Normalization\n",
    "# Data Visulaization\n",
    "# Statical Analysis\n",
    "# Data Inspection\n",
    "# Loading and saving data\n",
    "# And much more....\n",
    "\n",
    "# In particularly, it provides data structures and opearions for manipulating\n",
    "# numerical data and time series.\n",
    "\n",
    "# There are two data structures that are majorly used:-\n",
    "# Series : One dimensional Data Structure\n",
    "# DataFrame : Multi dimensional array\n",
    "\n",
    "\n"
   ]
  },
  {
   "cell_type": "markdown",
   "metadata": {},
   "source": [
    "### Series"
   ]
  },
  {
   "cell_type": "code",
   "execution_count": 2,
   "metadata": {},
   "outputs": [],
   "source": [
    "# Series is single dimensional indexed data in Pandas\n",
    "# It is a collection of item where each item has a label with which we can retrive them\n",
    "# Easiest way to understand Series is to visualize about two column of data.\n",
    "# where first column is speacial index , a lot like keys in a dictionary and second column is our actual data.\n",
    "# it is important to note that actual data must have its own column name so that actual data can be reterived by .name\n",
    "\n",
    "# It is very useful when merging multiple column of a data.\n",
    "\n"
   ]
  },
  {
   "cell_type": "code",
   "execution_count": 3,
   "metadata": {},
   "outputs": [],
   "source": [
    "# Now let's first import pandas package to get started\n",
    "\n",
    "import pandas as pd"
   ]
  },
  {
   "cell_type": "code",
   "execution_count": 9,
   "metadata": {},
   "outputs": [
    {
     "data": {
      "text/plain": [
       "0      Potter\n",
       "1    Hermoine\n",
       "2         Ron\n",
       "dtype: object"
      ]
     },
     "execution_count": 9,
     "metadata": {},
     "output_type": "execute_result"
    }
   ],
   "source": [
    "# Now let's create a series of student ie. Potter, hermoine, Ron\n",
    "\n",
    "# easiest way to create a series is to pass a array like object such as list into pd.series function of pandas\n",
    "# When we pass the list to series function pandas automatically assigns an index starting with zero and sets the bame of the series\n",
    "\n",
    "\n",
    "# For instance\n",
    "names = [\"Potter\", \"Hermoine\", \"Ron\"]\n",
    "\n",
    "data = pd.Series(names)\n",
    "\n",
    "# here we can see that pandas itself identified the datatype of actual data as an object\n",
    "# also assigns index to our data.\n",
    "data\n",
    " "
   ]
  },
  {
   "cell_type": "code",
   "execution_count": 17,
   "metadata": {},
   "outputs": [
    {
     "data": {
      "text/plain": [
       "['Potter', 'Hermoine', 'Ron']"
      ]
     },
     "execution_count": 17,
     "metadata": {},
     "output_type": "execute_result"
    }
   ],
   "source": [
    "# So the series works just like a normal list as we can get each item by their index\n",
    "# for example\n",
    "\n",
    "[data[0], data[1],data[2]]\n"
   ]
  },
  {
   "cell_type": "code",
   "execution_count": 18,
   "metadata": {},
   "outputs": [
    {
     "data": {
      "text/plain": [
       "0    1\n",
       "1    2\n",
       "2    3\n",
       "3    4\n",
       "4    5\n",
       "dtype: int64"
      ]
     },
     "execution_count": 18,
     "metadata": {},
     "output_type": "execute_result"
    }
   ],
   "source": [
    "# We dont have to use string. we can pass whole numbers, for instance,\n",
    "\n",
    "# we could see the that pandas identfied data type as int 32\n",
    "\n",
    "x = [1,2,3,4,5]\n",
    "pd.Series(x)  "
   ]
  },
  {
   "cell_type": "code",
   "execution_count": 19,
   "metadata": {},
   "outputs": [
    {
     "data": {
      "text/plain": [
       "0      Potter\n",
       "1    Hermoine\n",
       "2        None\n",
       "dtype: object"
      ]
     },
     "execution_count": 19,
     "metadata": {},
     "output_type": "execute_result"
    }
   ],
   "source": [
    "# Now, there are lot of other typing details that exists for perfomance in pandas \n",
    "# for instance we have a list of names where few of names are None\n",
    "\n",
    "# So in that case python have a None type to indicate lack of data \n",
    "# and when we pass the list into Series function pandas do some data conversion and\n",
    "# and inserts None and used object type to define missing data \n",
    "# for example,\n",
    "\n",
    "names = ['Potter', 'Hermoine', None]\n",
    "pd.Series(names)\n",
    "\n",
    "# Here we can see how pandas inserted None objects where data is missing.\n",
    "\n"
   ]
  },
  {
   "cell_type": "code",
   "execution_count": 22,
   "metadata": {},
   "outputs": [
    {
     "data": {
      "text/plain": [
       "0    1.0\n",
       "1    2.0\n",
       "2    3.0\n",
       "3    4.0\n",
       "4    NaN\n",
       "dtype: float64"
      ]
     },
     "execution_count": 22,
     "metadata": {},
     "output_type": "execute_result"
    }
   ],
   "source": [
    "# However, if we create a list of numbers, integer or float  and some data is msising\n",
    "# So in that case pandas uses NAN (not a number) in order to fill missing data.\n",
    "\n",
    "# For example\n",
    "\n",
    "arr = [1,2,3,4, None]\n",
    "pd.Series(arr)"
   ]
  },
  {
   "cell_type": "code",
   "execution_count": 29,
   "metadata": {},
   "outputs": [
    {
     "name": "stdout",
     "output_type": "stream",
     "text": [
      "False\n",
      "False\n"
     ]
    },
    {
     "data": {
      "text/plain": [
       "True"
      ]
     },
     "execution_count": 29,
     "metadata": {},
     "output_type": "execute_result"
    }
   ],
   "source": [
    "# here we can see pandas did some type conversion and converted None value into floating point\n",
    "# value designated as NaN\n",
    "\n",
    "# But i wonder why pandas converted integer value into floating point \n",
    "# it could have leave this in integer instead of changing to float\n",
    "# the anwsers is\n",
    "# the nan is floating point number and because int can be typecast into floating point\n",
    "# pandas went and converted integer into floats.\n",
    "\n",
    "# Pandas type cast the data into most general data type.\n",
    "\n",
    "# Point to remember \n",
    "# The nan is not equivalent to None these both are totally different things.\n",
    "# So when we try do some equality test, the rsult is false\n",
    "\n",
    "# for example\n",
    "import numpy as np\n",
    "print(np.nan == None)    \n",
    "\n",
    "# Here we get the result false which simple denotes that nan is not equivalent ot none\n",
    "# if we try to check\n",
    "print(np.nan == np.nan)\n",
    "\n",
    "# this also returns false because np.nan is a type of object and since we have created two objects differently the address of these objects are stored at different location\n",
    "# in the memory and trying to equality test on two different objetcs always return false\n",
    "\n",
    "\n",
    "# Instead you need to use speacial funciton to check for the presence of not a number\n",
    "\n",
    "np.isnan(np.nan)\n",
    "\n",
    "# np.isnan function helps us to do that\n",
    "# So when you see Nan value it meaning is similar to None but its a numerical value and treated differently for efficiency reasons."
   ]
  },
  {
   "cell_type": "code",
   "execution_count": 34,
   "metadata": {},
   "outputs": [
    {
     "name": "stdout",
     "output_type": "stream",
     "text": [
      "Daniel       harry\n",
      "Emma      hermoine\n",
      "Ruper          Ron\n",
      "dtype: object\n"
     ]
    },
    {
     "data": {
      "text/plain": [
       "Daniel       Harry\n",
       "Emma      Hermoine\n",
       "Ruper          Ron\n",
       "dtype: object"
      ]
     },
     "execution_count": 34,
     "metadata": {},
     "output_type": "execute_result"
    }
   ],
   "source": [
    "# So far we have seen that Pandas automatically assign index starts from zero to actual data\n",
    "# However there are some way by which we can assigns our own indexed to the data\n",
    "\n",
    "# For instance\n",
    "\n",
    "index = [\"Daniel\", \"Emma\", \"Ruper\"]\n",
    "data = [\"harry\", \"hermoine\", \"Ron\"]\n",
    "print(pd.Series(data, index = index))\n",
    "# So there is another argument with name index inside pd.Series function which let you to do this stuff.\n",
    "# However we have another method to do same using dictionaries\n",
    "\n",
    "# For instance\n",
    "\n",
    "dictionary = {\n",
    "    \"Daniel\" : \"Harry\",\n",
    "    \"Emma\" : \"Hermoine\",\n",
    "    \"Ruper\" : \"Ron\"\n",
    "}\n",
    "\n",
    "x = pd.Series(dictionary)\n",
    "# here pandas created a series where all the indexes are the keys of dictionary and actual data is value of dictionary\n",
    "x\n",
    "\n"
   ]
  },
  {
   "cell_type": "code",
   "execution_count": 35,
   "metadata": {},
   "outputs": [
    {
     "data": {
      "text/plain": [
       "Index(['Daniel', 'Emma', 'Ruper'], dtype='object')"
      ]
     },
     "execution_count": 35,
     "metadata": {},
     "output_type": "execute_result"
    }
   ],
   "source": [
    "# Once the series has been created we can get the index object using index attribute.\n",
    "x.index\n"
   ]
  },
  {
   "cell_type": "code",
   "execution_count": 38,
   "metadata": {},
   "outputs": [
    {
     "data": {
      "text/plain": [
       "array(['Harry', 'Hermoine', 'Ron'], dtype=object)"
      ]
     },
     "execution_count": 38,
     "metadata": {},
     "output_type": "execute_result"
    }
   ],
   "source": [
    "x.values # Similarlt we can access the list of values"
   ]
  },
  {
   "cell_type": "code",
   "execution_count": 42,
   "metadata": {},
   "outputs": [
    {
     "data": {
      "text/plain": [
       "Ruper         Ron\n",
       "Emma     Hermoine\n",
       "Harry         NaN\n",
       "dtype: object"
      ]
     },
     "execution_count": 42,
     "metadata": {},
     "output_type": "execute_result"
    }
   ],
   "source": [
    "dictionary = {\n",
    "    \"Daniel\" : \"Harry\",\n",
    "    \"Emma\" : \"Hermoine\",\n",
    "    \"Ruper\" : \"Ron\"\n",
    "}\n",
    "\n",
    "pd.Series(dictionary, index = [\"Ruper\",\"Emma\",\"Harry\"])\n",
    "# Here you see that index you are passing in the Series have one key missing when compared to our dataset\n",
    "# So in the situation such like this pandas created assigned nan to that place which signifies missing value\n",
    "\n"
   ]
  },
  {
   "cell_type": "code",
   "execution_count": null,
   "metadata": {},
   "outputs": [],
   "source": []
  }
 ],
 "metadata": {
  "kernelspec": {
   "display_name": "Python 3",
   "language": "python",
   "name": "python3"
  },
  "language_info": {
   "codemirror_mode": {
    "name": "ipython",
    "version": 3
   },
   "file_extension": ".py",
   "mimetype": "text/x-python",
   "name": "python",
   "nbconvert_exporter": "python",
   "pygments_lexer": "ipython3",
   "version": "3.7.3"
  }
 },
 "nbformat": 4,
 "nbformat_minor": 2
}
