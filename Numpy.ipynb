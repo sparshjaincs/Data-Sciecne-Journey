{
 "cells": [
  {
   "cell_type": "markdown",
   "metadata": {},
   "source": [
    "### What is Numpy?\n",
    "1. Numpy is the fundamental package that enables numeric computing using        python.\n",
    "2. It provides powerful ways to create, store, and/or manipulate data, which makes it easier to integerate with wide variety of databases.\n",
    "3. It is a foundation that Pandas is built-on.\n",
    "4. Pandas is another very important package that is used for data manipulation and data analysis.\n",
    "5. With the help of numpy one can create array with certain data types, manipulate arrays, select elements from array, load datasets into array\n",
    " "
   ]
  },
  {
   "cell_type": "code",
   "execution_count": 2,
   "metadata": {},
   "outputs": [],
   "source": [
    "# For starting, First we need to import a numpy library (abbr : 'np') using a 'import' keyword \n",
    "import numpy as np\n",
    "import math"
   ]
  },
  {
   "cell_type": "markdown",
   "metadata": {},
   "source": [
    "## Array Creation"
   ]
  },
  {
   "cell_type": "code",
   "execution_count": 5,
   "metadata": {},
   "outputs": [
    {
     "name": "stdout",
     "output_type": "stream",
     "text": [
      "[1 2 3 4]\n"
     ]
    }
   ],
   "source": [
    "# In python, Arrays are displayed as list or list of list which can be created through list as well.\n",
    "# For creating arrays using numpy, we pass the list as a argument in numpy array.\n",
    "\n",
    "a = np.array([1,2,3,4])\n",
    "print(a)"
   ]
  },
  {
   "cell_type": "code",
   "execution_count": 7,
   "metadata": {},
   "outputs": [
    {
     "name": "stdout",
     "output_type": "stream",
     "text": [
      "1\n"
     ]
    }
   ],
   "source": [
    "# we can print the dimension of array using ndim attribute\n",
    "print(a.ndim)\n",
    "# Here, 1 reprsents array is of one-dimension"
   ]
  },
  {
   "cell_type": "code",
   "execution_count": 10,
   "metadata": {},
   "outputs": [
    {
     "name": "stdout",
     "output_type": "stream",
     "text": [
      "[[1 2 3 4]\n",
      " [5 6 7 8]]\n",
      "2\n"
     ]
    }
   ],
   "source": [
    "# We can also create multi-dimensional array , just need to pass list of list as a argument in numpy array\n",
    "# for instance, a matrix\n",
    "b = np.array([[1,2,3,4],[5,6,7,8]])\n",
    "print(b)\n",
    "print(b.ndim)\n"
   ]
  },
  {
   "cell_type": "code",
   "execution_count": 12,
   "metadata": {},
   "outputs": [
    {
     "data": {
      "text/plain": [
       "(2, 4)"
      ]
     },
     "execution_count": 12,
     "metadata": {},
     "output_type": "execute_result"
    }
   ],
   "source": [
    "# We can also print the length of each dimension by calling 'shape' attribute, which return a tuple\n",
    "b.shape\n",
    "# Here, Tuple represents (row, column)"
   ]
  },
  {
   "cell_type": "code",
   "execution_count": 13,
   "metadata": {},
   "outputs": [
    {
     "data": {
      "text/plain": [
       "dtype('int32')"
      ]
     },
     "execution_count": 13,
     "metadata": {},
     "output_type": "execute_result"
    }
   ],
   "source": [
    "# We can also check the data type of elemnts present in array by calling 'dtype' attribute\n",
    "b.dtype\n",
    "# Here, data present iside the array is of type integer and 32 represents the number of bits occupied by integer in the memory "
   ]
  },
  {
   "cell_type": "code",
   "execution_count": 21,
   "metadata": {},
   "outputs": [
    {
     "name": "stdout",
     "output_type": "stream",
     "text": [
      "['1' '3' '3.4' '5' 'Hello']\n",
      "str1024\n"
     ]
    }
   ],
   "source": [
    "# Beside Integers, floats and other datatypes like String, charcters are also accepted in numpy arrays.\n",
    "c = np.array([1,3,3.4, 5, \"Hello\"])\n",
    "print(c)\n",
    "print(c.dtype.name)"
   ]
  },
  {
   "cell_type": "code",
   "execution_count": 28,
   "metadata": {},
   "outputs": [
    {
     "name": "stdout",
     "output_type": "stream",
     "text": [
      "[1.  3.  4.5]\n"
     ]
    }
   ],
   "source": [
    "# Suppose, we have an array of both float and integer elements in that situation\n",
    "# the numpy automatically converts the integers into floats since, there is no loss of presision.\n",
    "# Numpy will try to give you the best datatype format possible to keep your data homogenous\n",
    "# which means, all the data is same in the array.\n",
    "c1 = np.array([1.0,3,4.5])\n",
    "print(c1)    "
   ]
  },
  {
   "cell_type": "code",
   "execution_count": 24,
   "metadata": {},
   "outputs": [
    {
     "name": "stdout",
     "output_type": "stream",
     "text": [
      "[[0. 0. 0.]\n",
      " [0. 0. 0.]]\n",
      "[[1. 1. 1.]\n",
      " [1. 1. 1.]]\n"
     ]
    }
   ],
   "source": [
    "# Sometimes, there comes a situation where we know the shape of an array but, not what we want to be in it.\n",
    "# Numpy provides two methods to thrive in this situation.\n",
    "# Two methods : zero's and one's\n",
    "\n",
    "d = np.zeros((2,3))\n",
    "print(d)\n",
    "# Here, zeros method create an array of given shape where every element is zero \n",
    "e = np.ones((2,3))\n",
    "print(e)\n",
    "# Just Like zeros method but only differnce exists is one instead of zero. "
   ]
  },
  {
   "cell_type": "code",
   "execution_count": 26,
   "metadata": {},
   "outputs": [
    {
     "name": "stdout",
     "output_type": "stream",
     "text": [
      "[[0.79688428 0.73514173 0.3322433 ]\n",
      " [0.16102124 0.29870747 0.37027045]]\n"
     ]
    }
   ],
   "source": [
    "# We can also generate an array with random numbers\n",
    "\n",
    "f = np.random.rand(2,3)\n",
    "print(f)"
   ]
  },
  {
   "cell_type": "code",
   "execution_count": 39,
   "metadata": {},
   "outputs": [
    {
     "data": {
      "text/plain": [
       "array([ 1,  3,  5,  7,  9, 11, 13, 15, 17, 19, 21, 23, 25, 27, 29, 31, 33,\n",
       "       35, 37, 39, 41, 43, 45, 47, 49])"
      ]
     },
     "execution_count": 39,
     "metadata": {},
     "output_type": "execute_result"
    }
   ],
   "source": [
    "# We can also create sequence of numbers in an array by calling 'arange()' methos.\n",
    "# First argument is starting bound (inclusive), second argument is the ending bound(exclusive) and third bound is steps or differnce between each consecutive number.\n",
    "\n",
    "\n",
    "# Lets create an array of every odd number from 1 (inclusive) to 50 (exclusive)\n",
    "\n",
    "g = np.arange(1,50,2)\n",
    "g\n"
   ]
  },
  {
   "cell_type": "code",
   "execution_count": 41,
   "metadata": {},
   "outputs": [
    {
     "data": {
      "text/plain": [
       "array([0.        , 0.22222222, 0.44444444, 0.66666667, 0.88888889,\n",
       "       1.11111111, 1.33333333, 1.55555556, 1.77777778, 2.        ])"
      ]
     },
     "execution_count": 41,
     "metadata": {},
     "output_type": "execute_result"
    }
   ],
   "source": [
    "# if we want to generate a sequence of floats we can use linspace method.\n",
    "# here, third argument is not difference between two consecutive numbers but,\n",
    "# the total number of items you want inside of an array.\n",
    "\n",
    "h = np.linspace(0,2, 10)\n",
    "h\n",
    "\n",
    "# 1o numbers form 0 (inclusive) to 10 (inclusive) "
   ]
  },
  {
   "cell_type": "markdown",
   "metadata": {},
   "source": [
    "## Array Operations\n"
   ]
  },
  {
   "cell_type": "code",
   "execution_count": null,
   "metadata": {},
   "outputs": [],
   "source": []
  }
 ],
 "metadata": {
  "kernelspec": {
   "display_name": "Python 3",
   "language": "python",
   "name": "python3"
  },
  "language_info": {
   "codemirror_mode": {
    "name": "ipython",
    "version": 3
   },
   "file_extension": ".py",
   "mimetype": "text/x-python",
   "name": "python",
   "nbconvert_exporter": "python",
   "pygments_lexer": "ipython3",
   "version": "3.7.3"
  }
 },
 "nbformat": 4,
 "nbformat_minor": 2
}
