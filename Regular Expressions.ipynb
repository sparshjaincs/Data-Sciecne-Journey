{
 "cells": [
  {
   "cell_type": "code",
   "execution_count": 3,
   "metadata": {},
   "outputs": [],
   "source": [
    "# Regular Expressions are pattern matching string that is used to match character combinatons in a parsed string.\n",
    "# Regular Expression are patterns which you give to a regex processor with some source data.\n",
    "# The processor than parse that source data, and return chunks of text back to a data scientist or programmer got further manipulation.\n",
    "\n",
    "# There are three main reasons to use regex:\n",
    "# 1. to check, whether pattern exists within source data\n",
    "# 2. to get all instances of a complex pattern from source data\n",
    "# 3. to clean your source data using a pattern generally thorugh string splitting.\n",
    "\n",
    "\n",
    "# majorly, used for manipulating the text data and finding the pattern within it.\n",
    "\n",
    "# In this lecture we will learn about basics of regex, how to define pattern for matching, how to apply these pattern for string, and how to use the results of those pattern in data processing.\n",
    "\n"
   ]
  },
  {
   "cell_type": "code",
   "execution_count": 4,
   "metadata": {},
   "outputs": [],
   "source": [
    "# first we'll import re-module , which is where python stores regular expressions libraries\n",
    "\n",
    "import re"
   ]
  },
  {
   "cell_type": "code",
   "execution_count": 5,
   "metadata": {},
   "outputs": [
    {
     "name": "stdout",
     "output_type": "stream",
     "text": [
      "Wonderful!\n"
     ]
    }
   ],
   "source": [
    "# There are several processing function in the re module you might use.\n",
    "# match() function checks for a match that is at the beginning of the string and returns the boolean.\n",
    "# search() function cheks for a match anywhere in a string, and return a boolean.\n",
    "\n",
    "\n",
    "# lets create some text for example.\n",
    "text = \"This is a wonderful day.\"\n",
    "\n",
    "# Now let's check the day is wonderful or not.\n",
    "\n",
    "if re.search(\"wonderful\",text): # Here, first argument is pattern and second argument is source data\n",
    "    print(\"Wonderful!\")\n",
    "else:\n",
    "    print(\"Oh oo..\")\n",
    "\n",
    "\n"
   ]
  },
  {
   "cell_type": "code",
   "execution_count": 8,
   "metadata": {},
   "outputs": [
    {
     "data": {
      "text/plain": [
       "['hello i am learning ', ' science. ', ' sience is very fascinating.']"
      ]
     },
     "execution_count": 8,
     "metadata": {},
     "output_type": "execute_result"
    }
   ],
   "source": [
    "# YOu see how the search() functions works here.\n",
    "\n",
    "# But in order to do that there is lot working happening behind there.\n",
    "# The work that regex does here is tokenizing, which is very important concept of natural language processing\n",
    "\n",
    "# Now lets discuss aboot findall() and split() functions.\n",
    "# Both of these functions parse the string for us and return chunks. Let's try with an example.\n",
    "\n",
    "text = \"hello i am learning data science. data sience is very fascinating.\"\n",
    "\n",
    "# now let's split this text using split() function\n",
    "re.split(\"data\",text)\n",
    "# You see , here the split function split the whole text considering \"data\" as a delimiter into a chucks. "
   ]
  },
  {
   "cell_type": "code",
   "execution_count": 9,
   "metadata": {},
   "outputs": [
    {
     "data": {
      "text/plain": [
       "['data', 'data']"
      ]
     },
     "execution_count": 9,
     "metadata": {},
     "output_type": "execute_result"
    }
   ],
   "source": [
    "# Now, suppose use want to check how may times data is appearning in the text.\n",
    "# For doing this , findall() function help us\n",
    "\n",
    "re.findall(\"data\", text)\n",
    "\n",
    "# so the data is appearning two times in the whole text."
   ]
  },
  {
   "cell_type": "code",
   "execution_count": 11,
   "metadata": {},
   "outputs": [
    {
     "data": {
      "text/plain": [
       "<re.Match object; span=(0, 5), match='hello'>"
      ]
     },
     "execution_count": 11,
     "metadata": {},
     "output_type": "execute_result"
    }
   ],
   "source": [
    "# So, we have seen that search() function looks for some pattern and return a boolean\n",
    "# Split() function use pattern to return list of subtrings and findall() functions pull sout all the occurences.\n",
    "\n",
    "# Now let's start with anchors speacify the start and end of the string that you are tryinh to match.\n",
    "# the caret character \"^\" means start and dollar character \"$\" means end\n",
    "\n",
    "# for example lets check the text string start with hello or not\n",
    "\n",
    "re.search(\"^hello\",text)\n",
    "# You see that re.search atually returns new object re.match which always has a boolean value\n",
    "# as something was found. also it return location of the macthed pattern, as the span."
   ]
  },
  {
   "cell_type": "code",
   "execution_count": 12,
   "metadata": {},
   "outputs": [
    {
     "data": {
      "text/plain": [
       "['B', 'B', 'B', 'B']"
      ]
     },
     "execution_count": 12,
     "metadata": {},
     "output_type": "execute_result"
    }
   ],
   "source": [
    "  \n",
    "# lets learn more about the regex \n",
    "\n",
    "# Let s create a string and try to anwser some questions.\n",
    "\n",
    "text = \"ASDAFSDDAKDAHDDHBDNkBBBSIOAOD\"\n",
    "\n",
    "# If we want to anwser the questions how many A are present within thus string.\n",
    "\n",
    "re.findall(\"B\", text)"
   ]
  },
  {
   "cell_type": "code",
   "execution_count": 13,
   "metadata": {},
   "outputs": [
    {
     "data": {
      "text/plain": [
       "['A', 'A', 'A', 'A', 'B', 'B', 'B', 'B', 'A']"
      ]
     },
     "execution_count": 13,
     "metadata": {},
     "output_type": "execute_result"
    }
   ],
   "source": [
    "# If we want to count number of A and B present in the string, We can't use AB as it will search for pattern AB inside the string.\n",
    "# So for doing that we put A and B inside the square Bracket.\n",
    "# [] stands for set operator\n",
    "re.findall(\"[AB]\", text)\n"
   ]
  },
  {
   "cell_type": "code",
   "execution_count": 17,
   "metadata": {},
   "outputs": [
    {
     "data": {
      "text/plain": [
       "['AS', 'AF', 'AK', 'AH', 'AO']"
      ]
     },
     "execution_count": 17,
     "metadata": {},
     "output_type": "execute_result"
    }
   ],
   "source": [
    "# we can also use range of characters which are ordered alphanumerically such as [a-z], [0-9], [A-Z]\n",
    "\n",
    "re.findall(\"[A][F-S]\", text)\n",
    "\n",
    "# return all the patterns started with A and Any character present inside the range F-S"
   ]
  },
  {
   "cell_type": "code",
   "execution_count": 26,
   "metadata": {},
   "outputs": [
    {
     "data": {
      "text/plain": [
       "['S',\n",
       " 'D',\n",
       " 'F',\n",
       " 'S',\n",
       " 'D',\n",
       " 'D',\n",
       " 'K',\n",
       " 'D',\n",
       " 'H',\n",
       " 'D',\n",
       " 'D',\n",
       " 'H',\n",
       " 'B',\n",
       " 'D',\n",
       " 'N',\n",
       " 'k',\n",
       " 'B',\n",
       " 'B',\n",
       " 'B',\n",
       " 'S',\n",
       " 'I',\n",
       " 'O',\n",
       " 'O',\n",
       " 'D']"
      ]
     },
     "execution_count": 26,
     "metadata": {},
     "output_type": "execute_result"
    }
   ],
   "source": [
    "# we can use the caret operator to negate out result for instance\n",
    "\n",
    "re.findall(\"[^A]\", text) # not A"
   ]
  },
  {
   "cell_type": "code",
   "execution_count": 27,
   "metadata": {},
   "outputs": [
    {
     "data": {
      "text/plain": [
       "['DD', 'DD']"
      ]
     },
     "execution_count": 27,
     "metadata": {},
     "output_type": "execute_result"
    }
   ],
   "source": [
    "# Quantifiers are the number of times oyu want to a pattern to be matched in order to match.\n",
    "# The most basic quantifiers is expressed as e(m,n) where e is the expression and m is the minimum number of times you want it to be maatched\n",
    "# n maximum number of times the it could be matched\n",
    "\n",
    "\n",
    "# for example\n",
    "\n",
    "re.findall(\"D{2,10}\", text)"
   ]
  },
  {
   "cell_type": "code",
   "execution_count": 29,
   "metadata": {},
   "outputs": [
    {
     "data": {
      "text/plain": [
       "[]"
      ]
     },
     "execution_count": 29,
     "metadata": {},
     "output_type": "execute_result"
    }
   ],
   "source": [
    "# or\n",
    "re.findall(\"A{2, 2}\", text)\n"
   ]
  },
  {
   "cell_type": "code",
   "execution_count": 30,
   "metadata": {},
   "outputs": [],
   "source": [
    "# There are three other quantifiers that we need to understand \n",
    "# first one is asterisk \"*\" to match 0 ro more times\n",
    "# second one is \"?\" to match one or more times.\n",
    "# third one is \"+\" to match one or more times.\n",
    "  \n"
   ]
  },
  {
   "cell_type": "code",
   "execution_count": 33,
   "metadata": {},
   "outputs": [
    {
     "data": {
      "text/plain": [
       "'Overview[edit]\\nFERPA gives parents access to their child\\'s education records, an opportunity to seek to have the records amended, and some control over the disclosure of information from the records. With several exceptions, schools must have a student\\'s consent prior to the disclosure of education records after that student is 18 years old. The law applies only to educational agencies and institutions that receive funds under a program administered by the U.S. Department of Education.\\n\\nOther regulations under this act, effective starting January 3, 2012, allow for greater disclosures of personal and directory student identifying information and regulate student IDs and e-mail addresses.[2] For example, schools may provide external companies with a student\\'s personally identifiable information without the student\\'s consent.[2]\\n\\nExamples of situations affected by FERPA include school employees divulging information to anyone other than the student about the student\\'s grades or behavior, and school work posted on a bulletin board with a grade. Generally, schools must have written permission from the parent or eligible student in order to release any information from a student\\'s education record.\\n\\nThis privacy policy also governs how state agencies transmit testing data to federal agencies, such as the Education Data Exchange Network.\\n\\nThis U.S. federal law also gave students 18 years of age or older, or students of any age if enrolled in any post-secondary educational institution, the right of privacy regarding grades, enrollment, and even billing information unless the school has specific permission from the student to share that specific type of information.\\n\\nFERPA also permits a school to disclose personally identifiable information from education records of an \"eligible student\" (a student age 18 or older or enrolled in a postsecondary institution at any age) to his or her parents if the student is a \"dependent student\" as that term is defined in Section 152 of the Internal Revenue Code. Generally, if either parent has claimed the student as a dependent on the parent\\'s most recent income tax statement, the school may non-consensually disclose the student\\'s education records to both parents.[3]\\n\\nThe law allowed students who apply to an educational institution such as graduate school permission to view recommendations submitted by others as part of the application. However, on standard application forms, students are given the option to waive this right.\\n\\nFERPA specifically excludes employees of an educational institution if they are not students.\\n\\nThe act is also referred to as the Buckley Amendment, for one of its proponents, Senator James L. Buckley of New York.\\n\\nAccess to public records[edit]\\nThe citing of FERPA to conceal public records that are not \"educational\" in nature has been widely criticized, including by the act\\'s primary Senate sponsor.[4] For example, in the Owasso Independent School District v. Falvo case, an important part of the debate was determining the relationship between peer-grading and \"education records\" as defined in FERPA. In the Court of Appeals, it was ruled that students placing grades on the work of other students made such work into an \"education record.\" Thus, peer-grading was determined as a violation of FERPA privacy policies because students had access to other students\\' academic performance without full consent.[5] However, when the case went to the Supreme Court, it was officially ruled that peer-grading was not a violation of FERPA. This is because a grade written on a student\\'s work does not become an \"education record\" until the teacher writes the final grade into a grade book.[6]\\n\\nStudent medical records[edit]\\nLegal experts have debated the issue of whether student medical records (for example records of therapy sessions with a therapist at an on-campus counseling center) might be released to the school administration under certain triggering events, such as when a student sued his college or university.[7][8]\\n\\nUsually, student medical treatment records will remain under the protection of FERPA, not the Health Insurance Portability and Accountability Act (HIPAA). This is due to the \"FERPA Exception\" written within HIPAA.[9]'"
      ]
     },
     "execution_count": 33,
     "metadata": {},
     "output_type": "execute_result"
    }
   ],
   "source": [
    "# Now look at more complex examples, and load some text from a file\n",
    "\n",
    "with open(\"Datasets/ferpa.txt\",\"r\") as file:\n",
    "    # read the data from the file and store it in data variable\n",
    "    data = file.read()\n",
    "# and let's print that variable data to the screen\n",
    "data"
   ]
  },
  {
   "cell_type": "code",
   "execution_count": 35,
   "metadata": {},
   "outputs": [
    {
     "data": {
      "text/plain": [
       "['Overview[edit]', 'records[edit]', 'records[edit]']"
      ]
     },
     "execution_count": 35,
     "metadata": {},
     "output_type": "execute_result"
    }
   ],
   "source": [
    "# So after scanning this document i have found some words that are ending with [edit]\n",
    "# so let's findall\n",
    "\n",
    "re.findall(\"[a-zA-Z]{1,100}\\[edit\\]\", data)"
   ]
  },
  {
   "cell_type": "code",
   "execution_count": 37,
   "metadata": {},
   "outputs": [
    {
     "data": {
      "text/plain": [
       "['Overview[edit]', 'records[edit]', 'records[edit]']"
      ]
     },
     "execution_count": 37,
     "metadata": {},
     "output_type": "execute_result"
    }
   ],
   "source": [
    "# we can also use \\w which is used to match a special pattern of any letter or digits.\n",
    "# there are actually a number of different metacharacter listed in a documentation.\n",
    "\n",
    "# for example \\s matches whitespaces\n",
    "\n",
    "re.findall(\"[\\w]{1,100}\\[edit\\]\", data)\n",
    "\n",
    "# Here [a-zA-z] is replaced by [\\w]\n",
    "\n",
    "\n"
   ]
  },
  {
   "cell_type": "code",
   "execution_count": 41,
   "metadata": {},
   "outputs": [
    {
     "data": {
      "text/plain": [
       "['Overview[edit]', 'records[edit]', 'records[edit]']"
      ]
     },
     "execution_count": 41,
     "metadata": {},
     "output_type": "execute_result"
    }
   ],
   "source": [
    "# to make pattern for more clear we can also replace {1,100} with \"*\" that means 0 or more times.\n",
    "\n",
    "re.findall(\"[\\w]*\\[edit\\]\",data)"
   ]
  },
  {
   "cell_type": "code",
   "execution_count": 42,
   "metadata": {},
   "outputs": [
    {
     "data": {
      "text/plain": [
       "['Overview[edit]',\n",
       " 'Access to public records[edit]',\n",
       " 'Student medical records[edit]']"
      ]
     },
     "execution_count": 42,
     "metadata": {},
     "output_type": "execute_result"
    }
   ],
   "source": [
    "# it works but lets improve it by adding little bit of space, we can add a space by using a space charcter\n",
    "\n",
    "re.findall(\"[\\w ]*\\[edit\\]\",data)"
   ]
  },
  {
   "cell_type": "code",
   "execution_count": 53,
   "metadata": {},
   "outputs": [
    {
     "name": "stdout",
     "output_type": "stream",
     "text": [
      "Overview\n",
      "Access to public records\n",
      "Student medical records\n"
     ]
    }
   ],
   "source": [
    "# So this helped us to find the list of titles in the page! \n",
    "# we can also create a list of title sby iteraing over this and applying another egex\n",
    "\n",
    "\n",
    "for title in re.findall(\"[\\w ]*\\[edit\\]\", data):\n",
    "\n",
    "    print(re.split(\"\\[\",title)[0])"
   ]
  },
  {
   "cell_type": "code",
   "execution_count": 59,
   "metadata": {},
   "outputs": [
    {
     "data": {
      "text/plain": [
       "[('Overview', '[edit]'), ('records', '[edit]'), ('records', '[edit]')]"
      ]
     },
     "execution_count": 59,
     "metadata": {},
     "output_type": "execute_result"
    }
   ],
   "source": [
    "# Upto this point we are talking about regex as a single pattern which is matched\n",
    "# But , we can actually match different patterns , called groups at the same time.\n",
    "\n",
    "# For example\n",
    "re.findall(\"([\\w]*)(\\[edit\\])\",data)"
   ]
  },
  {
   "cell_type": "code",
   "execution_count": 67,
   "metadata": {},
   "outputs": [
    {
     "name": "stdout",
     "output_type": "stream",
     "text": [
      "('Overview', '[edit]')\n",
      "('Access to public records', '[edit]')\n",
      "('Student medical records', '[edit]')\n"
     ]
    }
   ],
   "source": [
    "# But what if we want a list of Match objects? In this case , we use the function finditer()\n",
    "\n",
    "for item in re.finditer(\"([\\w ]*)(\\[edit\\])\", data):\n",
    "    print(item.groups())"
   ]
  },
  {
   "cell_type": "code",
   "execution_count": 68,
   "metadata": {},
   "outputs": [
    {
     "name": "stdout",
     "output_type": "stream",
     "text": [
      "Overview\n",
      "Access to public records\n",
      "Student medical records\n"
     ]
    }
   ],
   "source": [
    "for item in re.finditer(\"([\\w ]*)(\\[edit\\])\", data):\n",
    "    print(item.group(1))"
   ]
  },
  {
   "cell_type": "code",
   "execution_count": null,
   "metadata": {},
   "outputs": [],
   "source": []
  }
 ],
 "metadata": {
  "kernelspec": {
   "display_name": "Python 3",
   "language": "python",
   "name": "python3"
  },
  "language_info": {
   "codemirror_mode": {
    "name": "ipython",
    "version": 3
   },
   "file_extension": ".py",
   "mimetype": "text/x-python",
   "name": "python",
   "nbconvert_exporter": "python",
   "pygments_lexer": "ipython3",
   "version": "3.7.3"
  }
 },
 "nbformat": 4,
 "nbformat_minor": 2
}
