{
 "cells": [
  {
   "cell_type": "markdown",
   "metadata": {},
   "source": [
    "### What is Numpy?\n",
    "1. Numpy is the fundamental package that enables numeric computing using        python.\n",
    "2. It provides powerful ways to create, store, and/or manipulate data, which makes it easier to integerate with wide variety of databases.\n",
    "3. It is a foundation that Pandas is built-on.\n",
    "4. Pandas is another very important package that is used for data manipulation and data analysis.\n",
    "5. With the help of numpy one can create array with certain data types, manipulate arrays, select elements from array, load datasets into array\n",
    " "
   ]
  },
  {
   "cell_type": "code",
   "execution_count": 1,
   "metadata": {},
   "outputs": [],
   "source": [
    "# For starting, First we need to import a numpy library (abbr : 'np') using a 'import' keyword \n",
    "import numpy as np\n",
    "import math\n",
    "import random"
   ]
  },
  {
   "cell_type": "markdown",
   "metadata": {},
   "source": [
    "## Array Creation"
   ]
  },
  {
   "cell_type": "code",
   "execution_count": 2,
   "metadata": {},
   "outputs": [
    {
     "name": "stdout",
     "output_type": "stream",
     "text": [
      "[1 2 3 4]\n"
     ]
    }
   ],
   "source": [
    "# In python, Arrays are displayed as list or list of list which can be created through list as well.\n",
    "# For creating arrays using numpy, we pass the list as a argument in numpy array.\n",
    "\n",
    "a = np.array([1,2,3,4])\n",
    "print(a)"
   ]
  },
  {
   "cell_type": "code",
   "execution_count": 3,
   "metadata": {},
   "outputs": [
    {
     "name": "stdout",
     "output_type": "stream",
     "text": [
      "1\n"
     ]
    }
   ],
   "source": [
    "# we can print the dimension of array using ndim attribute\n",
    "print(a.ndim)\n",
    "# Here, 1 reprsents array is of one-dimension"
   ]
  },
  {
   "cell_type": "code",
   "execution_count": 4,
   "metadata": {},
   "outputs": [
    {
     "name": "stdout",
     "output_type": "stream",
     "text": [
      "[[1 2 3 4]\n",
      " [5 6 7 8]]\n",
      "2\n"
     ]
    }
   ],
   "source": [
    "# We can also create multi-dimensional array , just need to pass list of list as a argument in numpy array\n",
    "# for instance, a matrix\n",
    "b = np.array([[1,2,3,4],[5,6,7,8]])\n",
    "print(b)\n",
    "print(b.ndim)\n"
   ]
  },
  {
   "cell_type": "code",
   "execution_count": 5,
   "metadata": {},
   "outputs": [
    {
     "data": {
      "text/plain": [
       "(2, 4)"
      ]
     },
     "execution_count": 5,
     "metadata": {},
     "output_type": "execute_result"
    }
   ],
   "source": [
    "# We can also print the length of each dimension by calling 'shape' attribute, which return a tuple\n",
    "b.shape\n",
    "# Here, Tuple represents (row, column)"
   ]
  },
  {
   "cell_type": "code",
   "execution_count": 6,
   "metadata": {},
   "outputs": [
    {
     "data": {
      "text/plain": [
       "dtype('int32')"
      ]
     },
     "execution_count": 6,
     "metadata": {},
     "output_type": "execute_result"
    }
   ],
   "source": [
    "# We can also check the data type of elemnts present in array by calling 'dtype' attribute\n",
    "b.dtype\n",
    "# Here, data present inside the array is of type integer and 32 represents the number of bits that the operating system is reserving to represent a number, \n",
    "# which determines the size (or precision) of the number"
   ]
  },
  {
   "cell_type": "code",
   "execution_count": 7,
   "metadata": {},
   "outputs": [
    {
     "name": "stdout",
     "output_type": "stream",
     "text": [
      "['1' '3' '3.4' '5' 'Hello']\n",
      "str1024\n"
     ]
    }
   ],
   "source": [
    "# Beside Integers, floats and other datatypes like String, charcters are also accepted in numpy arrays.\n",
    "c = np.array([1,3,3.4, 5, \"Hello\"])\n",
    "print(c)\n",
    "print(c.dtype.name)"
   ]
  },
  {
   "cell_type": "code",
   "execution_count": 8,
   "metadata": {},
   "outputs": [
    {
     "name": "stdout",
     "output_type": "stream",
     "text": [
      "[1.  3.  4.5]\n"
     ]
    }
   ],
   "source": [
    "# Suppose, we have an array of both float and integer elements in that situation\n",
    "# the numpy automatically converts the integers into floats since, there is no loss of presision.\n",
    "# Numpy will try to give you the best datatype format possible to keep your data homogenous\n",
    "# which means, all the data is same in the array.\n",
    "c1 = np.array([1.0,3,4.5])\n",
    "print(c1)    "
   ]
  },
  {
   "cell_type": "code",
   "execution_count": 9,
   "metadata": {},
   "outputs": [
    {
     "name": "stdout",
     "output_type": "stream",
     "text": [
      "[[0. 0. 0.]\n",
      " [0. 0. 0.]]\n",
      "[[1. 1. 1.]\n",
      " [1. 1. 1.]]\n"
     ]
    }
   ],
   "source": [
    "# Sometimes, there comes a situation where we know the shape of an array but, not what we want to be in it.\n",
    "# Numpy provides two methods to thrive in this situation.\n",
    "# Two methods : zero's and one's\n",
    "\n",
    "d = np.zeros((2,3))\n",
    "print(d)\n",
    "# Here, zeros method create an array of given shape where every element is zero \n",
    "e = np.ones((2,3))\n",
    "print(e)\n",
    "# Just Like zeros method but only differnce exists is one instead of zero. "
   ]
  },
  {
   "cell_type": "code",
   "execution_count": 10,
   "metadata": {},
   "outputs": [
    {
     "name": "stdout",
     "output_type": "stream",
     "text": [
      "[[0.61023071 0.27923901 0.05186356]\n",
      " [0.0458245  0.95298826 0.7477388 ]]\n"
     ]
    }
   ],
   "source": [
    "# We can also generate an array with random numbers\n",
    "\n",
    "f = np.random.rand(2,3)\n",
    "print(f)"
   ]
  },
  {
   "cell_type": "code",
   "execution_count": 11,
   "metadata": {},
   "outputs": [
    {
     "data": {
      "text/plain": [
       "array([ 1,  3,  5,  7,  9, 11, 13, 15, 17, 19, 21, 23, 25, 27, 29, 31, 33,\n",
       "       35, 37, 39, 41, 43, 45, 47, 49])"
      ]
     },
     "execution_count": 11,
     "metadata": {},
     "output_type": "execute_result"
    }
   ],
   "source": [
    "# We can also create sequence of numbers in an array by calling 'arange()' methos.\n",
    "# First argument is starting bound (inclusive), second argument is the ending bound(exclusive) and third bound is steps or differnce between each consecutive number.\n",
    "\n",
    "\n",
    "# Lets create an array of every odd number from 1 (inclusive) to 50 (exclusive)\n",
    "\n",
    "g = np.arange(1,50,2)\n",
    "g\n"
   ]
  },
  {
   "cell_type": "code",
   "execution_count": 12,
   "metadata": {},
   "outputs": [
    {
     "data": {
      "text/plain": [
       "array([0.        , 0.22222222, 0.44444444, 0.66666667, 0.88888889,\n",
       "       1.11111111, 1.33333333, 1.55555556, 1.77777778, 2.        ])"
      ]
     },
     "execution_count": 12,
     "metadata": {},
     "output_type": "execute_result"
    }
   ],
   "source": [
    "# if we want to generate a sequence of floats we can use linspace method.\n",
    "# here, third argument is not difference between two consecutive numbers but,\n",
    "# the total number of items you want inside of an array.\n",
    "\n",
    "h = np.linspace(0,2, 10)\n",
    "h\n",
    "\n",
    "# 1o numbers form 0 (inclusive) to 10 (inclusive) "
   ]
  },
  {
   "cell_type": "markdown",
   "metadata": {},
   "source": [
    "## Array Operations\n"
   ]
  },
  {
   "cell_type": "code",
   "execution_count": 13,
   "metadata": {},
   "outputs": [],
   "source": [
    "# We can do various operations on array, such as\n",
    "# 1. Mathematical Operation : addition, subtraction, multipication, division\n",
    "# 2. Matrix operations : product, transpose, inverse, and many more.."
   ]
  },
  {
   "cell_type": "code",
   "execution_count": 14,
   "metadata": {},
   "outputs": [
    {
     "name": "stdout",
     "output_type": "stream",
     "text": [
      "[ 5 14 23 32]\n",
      "[15 26 37 48]\n",
      "[2.         3.33333333 4.28571429 5.        ]\n",
      "[ 50 120 210 320]\n"
     ]
    }
   ],
   "source": [
    "# Airthmetic operations on array apply elementwise\n",
    "\n",
    "# Let's create a couple of arrays first\n",
    "\n",
    "a = np.array([10,20,30,40])\n",
    "b = np.array([5,6,7,8])\n",
    "\n",
    "# Now, let's look at a minus b\n",
    "\n",
    "c = a - b\n",
    "print(c)\n",
    "\n",
    "# a minus b return an array where element at each index is a result of substraction between corresponding array elements with same index.\n",
    "\n",
    "# like, a minus b other opeations are as follows\n",
    "\n",
    "d = a + b # addition\n",
    "print(d)\n",
    "\n",
    "e = a / b # division\n",
    "print(e)\n",
    "\n",
    "f = a * b # multiplication\n",
    "print(f)\n",
    "\n",
    "\n",
    "# with airthmetic operator, we can convert current data to the way we want it to be."
   ]
  },
  {
   "cell_type": "code",
   "execution_count": 15,
   "metadata": {},
   "outputs": [
    {
     "data": {
      "text/plain": [
       "array([False, False, False, False, False, False, False,  True,  True,\n",
       "       False])"
      ]
     },
     "execution_count": 15,
     "metadata": {},
     "output_type": "execute_result"
    }
   ],
   "source": [
    "# Boolean Arrays:\n",
    "# we can apply operator on an array and boolean array will be returned for every element in the original array.\n",
    "\n",
    "# For instance, let's look at this\n",
    "\n",
    "# let's create an array of random elements and check whcih elements are greater than 0.5.\n",
    "\n",
    "a = np.array([random.random() for i in range(10)])\n",
    "a > 0.5\n",
    "\n",
    "# here, true represents that the element present at corresponding index is greater than 0.5 and False means not."
   ]
  },
  {
   "cell_type": "code",
   "execution_count": 139,
   "metadata": {},
   "outputs": [
    {
     "name": "stdout",
     "output_type": "stream",
     "text": [
      "[[ 5 12]\n",
      " [21 32]]\n",
      "[[19 22]\n",
      " [43 50]]\n"
     ]
    }
   ],
   "source": [
    "# Now, Let's look at matrix operations\n",
    "\n",
    "# Matrix Product\n",
    "# If you want to do elementwise product use \"*\" operator\n",
    "\n",
    "a = np.array([[1,2],[3,4]])\n",
    "b = np.array([[5,6],[7,8]])\n",
    "\n",
    "print(a*b)\n",
    "\n",
    "# if you want to do matrix dot product, use \"@\" sign or dot operator\n",
    "\n",
    "print(a@b)\n",
    "\n",
    "# But there are some things we need to keep in mind while doing product of two matrices\n",
    "# it is only possible when inner dimensions of the two matrices are the same.\n",
    "# for example,\n",
    "# let suppose a dimension is (x,y) and b dimension is (g,h).\n",
    "# Product of both matrix (a and b) is only possible when y == g.\n"
   ]
  },
  {
   "cell_type": "markdown",
   "metadata": {},
   "source": [
    "#### Transposing Arrays and Dot product\n",
    "\n"
   ]
  },
  {
   "cell_type": "code",
   "execution_count": 142,
   "metadata": {},
   "outputs": [
    {
     "name": "stdout",
     "output_type": "stream",
     "text": [
      "[[1 2]\n",
      " [3 4]]\n",
      "[[1 3]\n",
      " [2 4]]\n",
      "[[19 22]\n",
      " [43 50]]\n"
     ]
    }
   ],
   "source": [
    "print(a)\n",
    "print(a.T)\n",
    "print(np.dot(a,b))\n"
   ]
  },
  {
   "cell_type": "code",
   "execution_count": 146,
   "metadata": {},
   "outputs": [
    {
     "name": "stdout",
     "output_type": "stream",
     "text": [
      "[ 1  3  5  7  9 11 13 15 17 19]\n",
      "1\n",
      "19\n",
      "100\n",
      "10.0\n",
      "[  1   4   9  16  25  36  49  64  81 100]\n",
      "[        1         3        15       105       945     10395    135135\n",
      "   2027025  34459425 654729075]\n"
     ]
    }
   ],
   "source": [
    "# Also, we have various aggregate function in python such as, sum(), min(), max(), mean()\n",
    "\n",
    "c = np.arange(1,20,2)\n",
    "print(c)\n",
    "print(c.min())\n",
    "print(c.max())\n",
    "print(c.sum())\n",
    "print(c.mean())\n",
    "print(c.cumsum()) # Cululative Sum\n",
    "print(c.cumprod()) # cululative product"
   ]
  },
  {
   "cell_type": "code",
   "execution_count": 24,
   "metadata": {},
   "outputs": [
    {
     "name": "stdout",
     "output_type": "stream",
     "text": [
      "[ 1  3  5  7  9 11 13 15 17 19]\n",
      "[[ 1  3  5  7  9]\n",
      " [11 13 15 17 19]]\n"
     ]
    }
   ],
   "source": [
    "# Just in case, there comes a situation when you are required to reshape the array to another dimesnion\n",
    "# Numpy also enable us to do that \n",
    "\n",
    "print(c)\n",
    "c = c.reshape(2,5) # converts 1 d array into 2-d array of shape (2,5)\n",
    "print(c)"
   ]
  },
  {
   "cell_type": "markdown",
   "metadata": {},
   "source": [
    "## Indexing, Slicing, and Iterating"
   ]
  },
  {
   "cell_type": "code",
   "execution_count": 25,
   "metadata": {},
   "outputs": [],
   "source": [
    "#Indexing, Slicing and iterations are very important when you talk about manipulating data\n",
    "#Because these allow us to select data based on conditions and, copy or update data.\n",
    "\n"
   ]
  },
  {
   "cell_type": "markdown",
   "metadata": {},
   "source": [
    "#### Indexing"
   ]
  },
  {
   "cell_type": "code",
   "execution_count": 28,
   "metadata": {},
   "outputs": [
    {
     "name": "stdout",
     "output_type": "stream",
     "text": [
      "[1 2 3 4 5]\n",
      "3\n"
     ]
    }
   ],
   "source": [
    "# First, Let's make an array of arbitiary numbers. One - d array works similar ways as a list.\n",
    "# To get an element from one-d array, we simple use the offset index\n",
    "a = np.array([1,2,3,4,5])\n",
    "print(a)\n",
    "print(a[2])\n"
   ]
  },
  {
   "cell_type": "code",
   "execution_count": 29,
   "metadata": {},
   "outputs": [
    {
     "data": {
      "text/plain": [
       "array([[1, 2],\n",
       "       [3, 4],\n",
       "       [5, 6]])"
      ]
     },
     "execution_count": 29,
     "metadata": {},
     "output_type": "execute_result"
    }
   ],
   "source": [
    "# For multidimensional array, we need to use integer array indexing,\n",
    "# Lets create a multidimensional array\n",
    "\n",
    "b = np.array([[1,2],[3,4],[5,6]])\n",
    "b"
   ]
  },
  {
   "cell_type": "code",
   "execution_count": 32,
   "metadata": {},
   "outputs": [
    {
     "data": {
      "text/plain": [
       "4"
      ]
     },
     "execution_count": 32,
     "metadata": {},
     "output_type": "execute_result"
    }
   ],
   "source": [
    "# Now, Look at some examples and understand how we can access data from multi dimensional arrays\n",
    "\n",
    "# If we want to select one certain number, we can do it by entering the row and column index inside the square brackets as defined below\n",
    "\n",
    "b[1,1]"
   ]
  },
  {
   "cell_type": "code",
   "execution_count": 37,
   "metadata": {},
   "outputs": [
    {
     "name": "stdout",
     "output_type": "stream",
     "text": [
      "[1 4 6]\n",
      "[1 4 6]\n"
     ]
    }
   ],
   "source": [
    "# If we want to get multiple elements let says a list of 1,4,6\n",
    "# we can do it by \n",
    "\n",
    "# method 1 : Simple by enetering index of every numbers\n",
    "print(np.array([b[0,0],b[1,1],b[2,1]]))\n",
    "\n",
    "# method 2 : We can also do it by another form of array indexing, which particularly \"zips\" the first list and second list index-wisely.\n",
    "\n",
    "print(b[[0,1,2],[0,1,1]])\n"
   ]
  },
  {
   "cell_type": "code",
   "execution_count": 65,
   "metadata": {},
   "outputs": [
    {
     "name": "stdout",
     "output_type": "stream",
     "text": [
      "[1 3 5]\n",
      "[1 2]\n",
      "[1 2]\n"
     ]
    }
   ],
   "source": [
    "# now let's suppose you want all first column elements of array\n",
    "\n",
    "print(b[: , 0])\n",
    "\n",
    "# Similarly, all first row elements\n",
    "\n",
    "print(b[0,:]) # which is like similar to print(b[0])\n",
    "print(b[0])"
   ]
  },
  {
   "cell_type": "markdown",
   "metadata": {},
   "source": [
    "##### Boolean Indexing"
   ]
  },
  {
   "cell_type": "code",
   "execution_count": 122,
   "metadata": {},
   "outputs": [
    {
     "name": "stdout",
     "output_type": "stream",
     "text": [
      "['Bob' 'Aman' 'Joe' 'Will' 'Joe' 'Joe' 'Will']\n"
     ]
    },
    {
     "data": {
      "text/plain": [
       "array([ True, False, False, False, False, False, False])"
      ]
     },
     "execution_count": 122,
     "metadata": {},
     "output_type": "execute_result"
    }
   ],
   "source": [
    "# Let's understand it with an exmples\n",
    "\n",
    "#Let's create an array of string \n",
    "names = np.array(['Bob','Aman','Joe','Will', 'Joe','Joe','Will'])\n",
    "print(names)\n",
    "\n",
    "names == 'Bob'\n",
    "# Here, the names == 'Bob' will return an arary of Boolean values based on the condition\n",
    "# i.e, it will return true where name if 'Bob' otherwise False"
   ]
  },
  {
   "cell_type": "code",
   "execution_count": 123,
   "metadata": {},
   "outputs": [
    {
     "name": "stdout",
     "output_type": "stream",
     "text": [
      "[[ 0.40326161  0.08554377  0.53325554  1.07494883]\n",
      " [ 0.02327004  1.61367596  0.2310816  -0.94021847]\n",
      " [-0.73861345  1.1044402  -1.39993304  0.26831319]\n",
      " [-2.26839245  1.64334432 -0.9963198  -0.07069444]\n",
      " [ 1.52572689 -0.41272219 -0.19150874 -0.26717574]\n",
      " [ 0.95626051  0.7553614  -1.91722103  0.01592422]\n",
      " [-2.47289949  0.95357298  0.72783453 -0.22310445]]\n"
     ]
    },
    {
     "data": {
      "text/plain": [
       "array([[0.40326161, 0.08554377, 0.53325554, 1.07494883]])"
      ]
     },
     "execution_count": 123,
     "metadata": {},
     "output_type": "execute_result"
    }
   ],
   "source": [
    "# We can also pass the result generated by boolean indexing to another array to access the elemts based on the conditions\n",
    "# For example,\n",
    "\n",
    "data = np.random.randn(7,4) \n",
    "print(data)\n",
    "\n",
    "data[names == 'Bob'] \n",
    "# since names == 'Bob' return only one index true i.e row 0 that's why data return row 0"
   ]
  },
  {
   "cell_type": "code",
   "execution_count": 124,
   "metadata": {},
   "outputs": [
    {
     "data": {
      "text/plain": [
       "array([[ 1.64334432, -0.9963198 ],\n",
       "       [ 0.95357298,  0.72783453]])"
      ]
     },
     "execution_count": 124,
     "metadata": {},
     "output_type": "execute_result"
    }
   ],
   "source": [
    "# Let's do some more experiments\n",
    "\n",
    "data[names == 'Will', 1:3]"
   ]
  },
  {
   "cell_type": "code",
   "execution_count": 125,
   "metadata": {},
   "outputs": [
    {
     "data": {
      "text/plain": [
       "array([-0.07069444, -0.22310445])"
      ]
     },
     "execution_count": 125,
     "metadata": {},
     "output_type": "execute_result"
    }
   ],
   "source": [
    "\n",
    "data[names == 'Will', 3]"
   ]
  },
  {
   "cell_type": "code",
   "execution_count": 126,
   "metadata": {},
   "outputs": [
    {
     "data": {
      "text/plain": [
       "array([False,  True,  True,  True,  True,  True,  True])"
      ]
     },
     "execution_count": 126,
     "metadata": {},
     "output_type": "execute_result"
    }
   ],
   "source": [
    "names != 'Bob'"
   ]
  },
  {
   "cell_type": "code",
   "execution_count": 127,
   "metadata": {},
   "outputs": [
    {
     "data": {
      "text/plain": [
       "array([[ 0.02327004,  1.61367596,  0.2310816 , -0.94021847],\n",
       "       [-0.73861345,  1.1044402 , -1.39993304,  0.26831319],\n",
       "       [-2.26839245,  1.64334432, -0.9963198 , -0.07069444],\n",
       "       [ 1.52572689, -0.41272219, -0.19150874, -0.26717574],\n",
       "       [ 0.95626051,  0.7553614 , -1.91722103,  0.01592422],\n",
       "       [-2.47289949,  0.95357298,  0.72783453, -0.22310445]])"
      ]
     },
     "execution_count": 127,
     "metadata": {},
     "output_type": "execute_result"
    }
   ],
   "source": [
    "data[names != 'Bob'] # or data[~(names == 'Bob')]"
   ]
  },
  {
   "cell_type": "code",
   "execution_count": 128,
   "metadata": {},
   "outputs": [
    {
     "data": {
      "text/plain": [
       "array([ True, False, False,  True, False, False,  True])"
      ]
     },
     "execution_count": 128,
     "metadata": {},
     "output_type": "execute_result"
    }
   ],
   "source": [
    "condition = (names == 'Bob') | (names == 'Will')\n",
    "condition"
   ]
  },
  {
   "cell_type": "code",
   "execution_count": 129,
   "metadata": {},
   "outputs": [
    {
     "data": {
      "text/plain": [
       "array([[ 0.02327004,  1.61367596,  0.2310816 , -0.94021847],\n",
       "       [-0.73861345,  1.1044402 , -1.39993304,  0.26831319],\n",
       "       [ 1.52572689, -0.41272219, -0.19150874, -0.26717574],\n",
       "       [ 0.95626051,  0.7553614 , -1.91722103,  0.01592422]])"
      ]
     },
     "execution_count": 129,
     "metadata": {},
     "output_type": "execute_result"
    }
   ],
   "source": [
    "data[~(condition)]"
   ]
  },
  {
   "cell_type": "code",
   "execution_count": 130,
   "metadata": {},
   "outputs": [
    {
     "data": {
      "text/plain": [
       "array([-0.94021847, -0.73861345, -1.39993304, -2.26839245, -0.9963198 ,\n",
       "       -0.07069444, -0.41272219, -0.19150874, -0.26717574, -1.91722103,\n",
       "       -2.47289949, -0.22310445])"
      ]
     },
     "execution_count": 130,
     "metadata": {},
     "output_type": "execute_result"
    }
   ],
   "source": [
    "data[data < 0]"
   ]
  },
  {
   "cell_type": "markdown",
   "metadata": {},
   "source": [
    "##### Assignment"
   ]
  },
  {
   "cell_type": "code",
   "execution_count": 131,
   "metadata": {},
   "outputs": [
    {
     "name": "stdout",
     "output_type": "stream",
     "text": [
      "[[ 0.40326161  0.08554377  0.53325554  1.07494883]\n",
      " [ 0.02327004  1.61367596  0.2310816  -0.94021847]\n",
      " [-0.73861345  1.1044402  -1.39993304  0.26831319]\n",
      " [-2.26839245  1.64334432 -0.9963198  -0.07069444]\n",
      " [ 1.52572689 -0.41272219 -0.19150874 -0.26717574]\n",
      " [ 0.95626051  0.7553614  -1.91722103  0.01592422]\n",
      " [-2.47289949  0.95357298  0.72783453 -0.22310445]]\n",
      "[[ 0.40326161  1.          0.53325554  1.07494883]\n",
      " [ 0.02327004  1.61367596  0.2310816  -0.94021847]\n",
      " [-0.73861345  1.1044402  -1.39993304  0.26831319]\n",
      " [-2.26839245  1.64334432 -0.9963198  -0.07069444]\n",
      " [ 1.52572689 -0.41272219 -0.19150874 -0.26717574]\n",
      " [ 0.95626051  0.7553614  -1.91722103  0.01592422]\n",
      " [-2.47289949  0.95357298  0.72783453 -0.22310445]]\n"
     ]
    }
   ],
   "source": [
    "# We can alos assign the values to indexes of arrays\n",
    "#  for example\n",
    "print(data)\n",
    "data[0,1] = 1\n",
    "print(data)"
   ]
  },
  {
   "cell_type": "code",
   "execution_count": 132,
   "metadata": {},
   "outputs": [
    {
     "data": {
      "text/plain": [
       "array([[0.40326161, 1.        , 0.53325554, 1.07494883],\n",
       "       [0.        , 0.        , 0.        , 0.        ],\n",
       "       [0.        , 0.        , 0.        , 0.        ],\n",
       "       [0.        , 0.        , 0.        , 0.        ],\n",
       "       [0.        , 0.        , 0.        , 0.        ],\n",
       "       [0.        , 0.        , 0.        , 0.        ],\n",
       "       [0.        , 0.        , 0.        , 0.        ]])"
      ]
     },
     "execution_count": 132,
     "metadata": {},
     "output_type": "execute_result"
    }
   ],
   "source": [
    "data[names != 'Bob'] = 0\n",
    "data"
   ]
  },
  {
   "cell_type": "code",
   "execution_count": 133,
   "metadata": {},
   "outputs": [],
   "source": [
    "data[data == 0] =1"
   ]
  },
  {
   "cell_type": "code",
   "execution_count": 135,
   "metadata": {},
   "outputs": [
    {
     "data": {
      "text/plain": [
       "array([[0.40326161, 1.        , 0.53325554, 1.07494883],\n",
       "       [1.        , 1.        , 1.        , 1.        ],\n",
       "       [1.        , 1.        , 1.        , 1.        ],\n",
       "       [1.        , 1.        , 1.        , 1.        ],\n",
       "       [1.        , 1.        , 1.        , 1.        ],\n",
       "       [1.        , 1.        , 1.        , 1.        ],\n",
       "       [1.        , 1.        , 1.        , 1.        ]])"
      ]
     },
     "execution_count": 135,
     "metadata": {},
     "output_type": "execute_result"
    }
   ],
   "source": [
    "data"
   ]
  },
  {
   "cell_type": "code",
   "execution_count": 137,
   "metadata": {},
   "outputs": [
    {
     "data": {
      "text/plain": [
       "array([[0.40326161, 1.        , 0.53325554, 1.07494883],\n",
       "       [1.        , 1.        , 1.        , 1.        ],\n",
       "       [7.        , 7.        , 7.        , 7.        ],\n",
       "       [1.        , 1.        , 1.        , 1.        ],\n",
       "       [7.        , 7.        , 7.        , 7.        ],\n",
       "       [7.        , 7.        , 7.        , 7.        ],\n",
       "       [1.        , 1.        , 1.        , 1.        ]])"
      ]
     },
     "execution_count": 137,
     "metadata": {},
     "output_type": "execute_result"
    }
   ],
   "source": [
    "data[names == 'Joe'] = 7\n",
    "data"
   ]
  },
  {
   "cell_type": "code",
   "execution_count": null,
   "metadata": {},
   "outputs": [],
   "source": []
  },
  {
   "cell_type": "markdown",
   "metadata": {},
   "source": [
    "##### Slicing"
   ]
  },
  {
   "cell_type": "code",
   "execution_count": 48,
   "metadata": {},
   "outputs": [
    {
     "name": "stdout",
     "output_type": "stream",
     "text": [
      "[1 2 3 4 5 6 7 8 9]\n",
      "[1 2 3]\n",
      "[1 3 5 7 9]\n"
     ]
    }
   ],
   "source": [
    "# Slicing is a way to create sub arrays based on the original array \n",
    "\n",
    "# For one dimenional array slicing works in similar as it works with list.\n",
    "# To slice, we use : the sign and specify the staring and ending index to access the data\n",
    "# For instance :3 in the indexing, we get elements from postion 0 (inclusive) to position 3 (exclusive)\n",
    "\n",
    "# For example\n",
    "\n",
    "a = np.arange(1,10,1)\n",
    "print(a)\n",
    "print(a[:3])\n",
    "print(a[::2]) # We can also pass third parameter in slicing that specify the steps or jumps.\n",
    "\n"
   ]
  },
  {
   "cell_type": "code",
   "execution_count": 52,
   "metadata": {},
   "outputs": [
    {
     "data": {
      "text/plain": [
       "array([[ 1,  2,  3,  4],\n",
       "       [ 5,  6,  7,  8],\n",
       "       [ 9, 10, 11, 12]])"
      ]
     },
     "execution_count": 52,
     "metadata": {},
     "output_type": "execute_result"
    }
   ],
   "source": [
    "# For two dimensional array, it works similarly, Lets see an example\n",
    "\n",
    "a  = np.arange(1,13,1).reshape(3,4)\n",
    "a"
   ]
  },
  {
   "cell_type": "code",
   "execution_count": 54,
   "metadata": {},
   "outputs": [
    {
     "data": {
      "text/plain": [
       "array([[1, 2, 3, 4],\n",
       "       [5, 6, 7, 8]])"
      ]
     },
     "execution_count": 54,
     "metadata": {},
     "output_type": "execute_result"
    }
   ],
   "source": [
    "#if we put one aruemnt in the array, for example a[:2] then we would get all the elemenys from the first and second row\n",
    "#i.e\n",
    "\n",
    "a[:2]"
   ]
  },
  {
   "cell_type": "code",
   "execution_count": 56,
   "metadata": {},
   "outputs": [
    {
     "data": {
      "text/plain": [
       "array([[2, 3],\n",
       "       [6, 7]])"
      ]
     },
     "execution_count": 56,
     "metadata": {},
     "output_type": "execute_result"
    }
   ],
   "source": [
    "# if we add another argument to the array, for example a[:2, 1:3] , we get the first two rows but second and third columns only\n",
    "\n",
    "a[:2 ,1:3]\n",
    "# So, in multi dimensional array first argument is for slicing the rows and secinf \n",
    "# element is for slicing the columns"
   ]
  },
  {
   "cell_type": "markdown",
   "metadata": {},
   "source": []
  },
  {
   "cell_type": "code",
   "execution_count": null,
   "metadata": {},
   "outputs": [],
   "source": []
  },
  {
   "cell_type": "code",
   "execution_count": 3,
   "metadata": {},
   "outputs": [
    {
     "data": {
      "text/plain": [
       "array([1, 2, 3, 4, 5])"
      ]
     },
     "execution_count": 3,
     "metadata": {},
     "output_type": "execute_result"
    }
   ],
   "source": [
    "# Some More things to learn\n",
    "\n",
    "arr = np.arange(1,6)\n",
    "arr"
   ]
  },
  {
   "cell_type": "code",
   "execution_count": 11,
   "metadata": {},
   "outputs": [
    {
     "name": "stdout",
     "output_type": "stream",
     "text": [
      "15\n",
      "15\n"
     ]
    }
   ],
   "source": [
    "print(np.sum(arr))\n",
    "\n",
    "print(np.add.reduce(arr))"
   ]
  },
  {
   "cell_type": "code",
   "execution_count": 8,
   "metadata": {},
   "outputs": [
    {
     "data": {
      "text/plain": [
       "120"
      ]
     },
     "execution_count": 8,
     "metadata": {},
     "output_type": "execute_result"
    }
   ],
   "source": [
    "np.multiply.reduce(arr)"
   ]
  },
  {
   "cell_type": "code",
   "execution_count": 18,
   "metadata": {},
   "outputs": [
    {
     "data": {
      "text/plain": [
       "-13"
      ]
     },
     "execution_count": 18,
     "metadata": {},
     "output_type": "execute_result"
    }
   ],
   "source": [
    "np.subtract.reduce(arr)"
   ]
  },
  {
   "cell_type": "code",
   "execution_count": 19,
   "metadata": {},
   "outputs": [
    {
     "data": {
      "text/plain": [
       "array([ 1,  3,  6, 10, 15], dtype=int32)"
      ]
     },
     "execution_count": 19,
     "metadata": {},
     "output_type": "execute_result"
    }
   ],
   "source": [
    "np.cumsum(arr)"
   ]
  },
  {
   "cell_type": "code",
   "execution_count": 21,
   "metadata": {},
   "outputs": [
    {
     "data": {
      "text/plain": [
       "array([ 1,  3,  6, 10, 15], dtype=int32)"
      ]
     },
     "execution_count": 21,
     "metadata": {},
     "output_type": "execute_result"
    }
   ],
   "source": [
    "np.add.accumulate(arr)"
   ]
  },
  {
   "cell_type": "code",
   "execution_count": 23,
   "metadata": {},
   "outputs": [
    {
     "data": {
      "text/plain": [
       "array([  1,   2,   6,  24, 120], dtype=int32)"
      ]
     },
     "execution_count": 23,
     "metadata": {},
     "output_type": "execute_result"
    }
   ],
   "source": [
    "np.cumprod(arr)"
   ]
  },
  {
   "cell_type": "code",
   "execution_count": 24,
   "metadata": {},
   "outputs": [
    {
     "data": {
      "text/plain": [
       "array([  1,   2,   6,  24, 120], dtype=int32)"
      ]
     },
     "execution_count": 24,
     "metadata": {},
     "output_type": "execute_result"
    }
   ],
   "source": [
    "np.multiply.accumulate(arr)"
   ]
  },
  {
   "cell_type": "code",
   "execution_count": 27,
   "metadata": {},
   "outputs": [
    {
     "data": {
      "text/plain": [
       "array([  1,  -1,  -4,  -8, -13], dtype=int32)"
      ]
     },
     "execution_count": 27,
     "metadata": {},
     "output_type": "execute_result"
    }
   ],
   "source": [
    "np.subtract.accumulate(arr)"
   ]
  },
  {
   "cell_type": "code",
   "execution_count": 29,
   "metadata": {},
   "outputs": [
    {
     "data": {
      "text/plain": [
       "array([[1., 0., 0.],\n",
       "       [0., 1., 0.],\n",
       "       [0., 0., 1.]])"
      ]
     },
     "execution_count": 29,
     "metadata": {},
     "output_type": "execute_result"
    }
   ],
   "source": [
    "np.eye(3) # identity matrix"
   ]
  },
  {
   "cell_type": "code",
   "execution_count": 32,
   "metadata": {},
   "outputs": [
    {
     "data": {
      "text/plain": [
       "array([[0., 0., 0.],\n",
       "       [0., 0., 0.],\n",
       "       [0., 0., 0.]])"
      ]
     },
     "execution_count": 32,
     "metadata": {},
     "output_type": "execute_result"
    }
   ],
   "source": [
    "np.zeros([3,3]) # Matrix of zeros"
   ]
  },
  {
   "cell_type": "code",
   "execution_count": 33,
   "metadata": {},
   "outputs": [
    {
     "data": {
      "text/plain": [
       "array([0., 0., 0.])"
      ]
     },
     "execution_count": 33,
     "metadata": {},
     "output_type": "execute_result"
    }
   ],
   "source": [
    "np.zeros(3)"
   ]
  },
  {
   "cell_type": "code",
   "execution_count": 34,
   "metadata": {},
   "outputs": [
    {
     "data": {
      "text/plain": [
       "array([1., 1., 1.])"
      ]
     },
     "execution_count": 34,
     "metadata": {},
     "output_type": "execute_result"
    }
   ],
   "source": [
    "np.ones(3)"
   ]
  },
  {
   "cell_type": "code",
   "execution_count": 37,
   "metadata": {},
   "outputs": [
    {
     "data": {
      "text/plain": [
       "array([[12, 12, 12, 12, 12],\n",
       "       [12, 12, 12, 12, 12],\n",
       "       [12, 12, 12, 12, 12]])"
      ]
     },
     "execution_count": 37,
     "metadata": {},
     "output_type": "execute_result"
    }
   ],
   "source": [
    "np.full([3,5], 12)"
   ]
  },
  {
   "cell_type": "code",
   "execution_count": 38,
   "metadata": {},
   "outputs": [
    {
     "data": {
      "text/plain": [
       "array([1, 3, 5, 7, 9])"
      ]
     },
     "execution_count": 38,
     "metadata": {},
     "output_type": "execute_result"
    }
   ],
   "source": [
    "np.arange(1,10,2)"
   ]
  },
  {
   "cell_type": "code",
   "execution_count": 40,
   "metadata": {},
   "outputs": [
    {
     "data": {
      "text/plain": [
       "array([[ 1,  3,  5,  7,  9],\n",
       "       [11, 13, 15, 17, 19]])"
      ]
     },
     "execution_count": 40,
     "metadata": {},
     "output_type": "execute_result"
    }
   ],
   "source": [
    "np.arange(1,20,2).reshape(2,5)"
   ]
  },
  {
   "cell_type": "code",
   "execution_count": 43,
   "metadata": {},
   "outputs": [
    {
     "data": {
      "text/plain": [
       "array([ 1.  ,  5.75, 10.5 , 15.25, 20.  ])"
      ]
     },
     "execution_count": 43,
     "metadata": {},
     "output_type": "execute_result"
    }
   ],
   "source": [
    "np.linspace(1,20,5)"
   ]
  },
  {
   "cell_type": "code",
   "execution_count": 50,
   "metadata": {},
   "outputs": [
    {
     "data": {
      "text/plain": [
       "array([[0.07217202, 0.64444566, 0.14370718, 0.4989118 , 0.14641136],\n",
       "       [0.61049091, 0.47913764, 0.17715167, 0.53292838, 0.32003047],\n",
       "       [0.34256195, 0.01547988, 0.13525848, 0.73231935, 0.84552954],\n",
       "       [0.12238725, 0.10110349, 0.34753947, 0.64676514, 0.2297539 ],\n",
       "       [0.58830262, 0.54225594, 0.52218595, 0.9420112 , 0.1039418 ]])"
      ]
     },
     "execution_count": 50,
     "metadata": {},
     "output_type": "execute_result"
    }
   ],
   "source": [
    "np.random.random([5,5]) #uniform distribution"
   ]
  },
  {
   "cell_type": "code",
   "execution_count": 54,
   "metadata": {},
   "outputs": [
    {
     "data": {
      "text/plain": [
       "array([[0.14257723, 0.02381663, 0.86032322, 0.5197083 ],\n",
       "       [0.70464809, 0.21586882, 0.67622889, 0.44637074],\n",
       "       [0.0728328 , 0.72191348, 0.88675554, 0.95684062]])"
      ]
     },
     "execution_count": 54,
     "metadata": {},
     "output_type": "execute_result"
    }
   ],
   "source": [
    "np.random.rand(3,4) # random values in given shape\n"
   ]
  },
  {
   "cell_type": "code",
   "execution_count": 55,
   "metadata": {},
   "outputs": [
    {
     "data": {
      "text/plain": [
       "120"
      ]
     },
     "execution_count": 55,
     "metadata": {},
     "output_type": "execute_result"
    }
   ],
   "source": [
    "np.prod(arr)"
   ]
  },
  {
   "cell_type": "code",
   "execution_count": null,
   "metadata": {},
   "outputs": [],
   "source": [
    "np.sum\n",
    "np.multiply\n",
    "np.subtract\n",
    "np.divide\n",
    "np.floor_divide\n",
    "np.power\n",
    "np.mod\n",
    "np.negative\n",
    "np.log\n",
    "np.log2\n",
    "np.log10\n",
    "np.exp\n",
    "np.exp2\n",
    "np.pi\n",
    "np.abs\n",
    "np.absolute\n",
    "np.sin\n",
    "np.cos\n",
    "np.tan\n",
    "np.cot\n",
    "np.sec\n",
    "np.cosec\n",
    "np.arcsin\n",
    "np.arccos\n",
    "np.arctan\n",
    "np.arccot\n",
    "np.arcsec\n",
    "np.arccosec\n",
    "np.prod\n",
    "np.min\n",
    "np.max\n",
    "np.std\n",
    "np.var\n",
    "np.median\n",
    "np.mean\n",
    "np.any\n",
    "np.all\n",
    "np.percentile\n",
    "np.argmin\n",
    "np.argmax"
   ]
  },
  {
   "cell_type": "code",
   "execution_count": 59,
   "metadata": {},
   "outputs": [
    {
     "data": {
      "text/plain": [
       "4"
      ]
     },
     "execution_count": 59,
     "metadata": {},
     "output_type": "execute_result"
    }
   ],
   "source": [
    "np.argmax(arr)"
   ]
  },
  {
   "cell_type": "markdown",
   "metadata": {},
   "source": [
    "What is broadcasting?\n",
    "\n",
    "Broadcasting is a technique of performing different airthmetic operations on arrays of differnet shapes\n",
    "\n",
    "for example\n",
    "arr + 5 adds 5 to each element of an array\n",
    "similarly, arr - 5\n",
    "arr * 5\n",
    "arr / 5\n",
    "arr // 5\n",
    "arr ** 2\n",
    "\n"
   ]
  },
  {
   "cell_type": "code",
   "execution_count": 84,
   "metadata": {},
   "outputs": [
    {
     "data": {
      "text/plain": [
       "array([0, 1, 2])"
      ]
     },
     "execution_count": 84,
     "metadata": {},
     "output_type": "execute_result"
    }
   ],
   "source": [
    "a = np.array([0,1,2])\n",
    "arr = np.ones([3,3])\n",
    "a"
   ]
  },
  {
   "cell_type": "code",
   "execution_count": 85,
   "metadata": {},
   "outputs": [
    {
     "data": {
      "text/plain": [
       "array([[1., 1., 1.],\n",
       "       [1., 1., 1.],\n",
       "       [1., 1., 1.]])"
      ]
     },
     "execution_count": 85,
     "metadata": {},
     "output_type": "execute_result"
    }
   ],
   "source": [
    "arr"
   ]
  },
  {
   "cell_type": "code",
   "execution_count": 86,
   "metadata": {},
   "outputs": [
    {
     "data": {
      "text/plain": [
       "array([[1., 2., 3.],\n",
       "       [1., 2., 3.],\n",
       "       [1., 2., 3.]])"
      ]
     },
     "execution_count": 86,
     "metadata": {},
     "output_type": "execute_result"
    }
   ],
   "source": [
    "arr + a"
   ]
  },
  {
   "cell_type": "code",
   "execution_count": null,
   "metadata": {},
   "outputs": [],
   "source": []
  }
 ],
 "metadata": {
  "kernelspec": {
   "display_name": "Python 3",
   "language": "python",
   "name": "python3"
  },
  "language_info": {
   "codemirror_mode": {
    "name": "ipython",
    "version": 3
   },
   "file_extension": ".py",
   "mimetype": "text/x-python",
   "name": "python",
   "nbconvert_exporter": "python",
   "pygments_lexer": "ipython3",
   "version": "3.7.3"
  }
 },
 "nbformat": 4,
 "nbformat_minor": 2
}
