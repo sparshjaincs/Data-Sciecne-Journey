{
 "cells": [
  {
   "cell_type": "code",
   "execution_count": 1,
   "metadata": {},
   "outputs": [],
   "source": [
    "# Pandas is open source python package that is widely used for data analysis\n",
    "# / data science.\n",
    "\n",
    "# Pandas has a numerous builtin function that makes data scientist easier to perform various activities.\n",
    "# Such as, Data Manipulation\n",
    "# Data Cleansing\n",
    "# Data Fill\n",
    "# Data Normalization\n",
    "# Data Visulaization\n",
    "# Statical Analysis\n",
    "# Data Inspection\n",
    "# Loading and saving data\n",
    "# And much more....\n",
    "\n",
    "# In particularly, it provides data structures and opearions for manipulating\n",
    "# numerical data and time series.\n",
    "\n",
    "# There are two data structures that are majorly used:-\n",
    "# Series : One dimensional Data Structure\n",
    "# DataFrame : Multi dimensional array\n",
    "\n",
    "\n"
   ]
  },
  {
   "cell_type": "markdown",
   "metadata": {},
   "source": [
    "### Series"
   ]
  },
  {
   "cell_type": "code",
   "execution_count": 2,
   "metadata": {},
   "outputs": [],
   "source": [
    "# Series is single dimensional indexed data in Pandas\n",
    "# It is a collection of item where each item has a label with which we can retrive them\n",
    "# Easiest way to understand Series is to visualize about two column of data.\n",
    "# where first column is speacial index , a lot like keys in a dictionary and second column is our actual data.\n",
    "# it is important to note that actual data must have its own column name so that actual data can be reterived by .name\n",
    "\n",
    "# It is very useful when merging multiple column of a data.\n",
    "\n"
   ]
  },
  {
   "cell_type": "code",
   "execution_count": 3,
   "metadata": {},
   "outputs": [],
   "source": [
    "# Now let's first import pandas package to get started\n",
    "\n",
    "import pandas as pd"
   ]
  },
  {
   "cell_type": "code",
   "execution_count": 9,
   "metadata": {},
   "outputs": [
    {
     "data": {
      "text/plain": [
       "0      Potter\n",
       "1    Hermoine\n",
       "2         Ron\n",
       "dtype: object"
      ]
     },
     "execution_count": 9,
     "metadata": {},
     "output_type": "execute_result"
    }
   ],
   "source": [
    "# Now let's create a series of student ie. Potter, hermoine, Ron\n",
    "\n",
    "# easiest way to create a series is to pass a array like object such as list into pd.series function of pandas\n",
    "# When we pass the list to series function pandas automatically assigns an index starting with zero and sets the bame of the series\n",
    "\n",
    "\n",
    "# For instance\n",
    "names = [\"Potter\", \"Hermoine\", \"Ron\"]\n",
    "\n",
    "data = pd.Series(names)\n",
    "\n",
    "# here we can see that pandas itself identified the datatype of actual data as an object\n",
    "# also assigns index to our data.\n",
    "data\n",
    " "
   ]
  },
  {
   "cell_type": "code",
   "execution_count": 17,
   "metadata": {},
   "outputs": [
    {
     "data": {
      "text/plain": [
       "['Potter', 'Hermoine', 'Ron']"
      ]
     },
     "execution_count": 17,
     "metadata": {},
     "output_type": "execute_result"
    }
   ],
   "source": [
    "# So the series works just like a normal list as we can get each item by their index\n",
    "# for example\n",
    "\n",
    "[data[0], data[1],data[2]]\n"
   ]
  },
  {
   "cell_type": "code",
   "execution_count": 18,
   "metadata": {},
   "outputs": [
    {
     "data": {
      "text/plain": [
       "0    1\n",
       "1    2\n",
       "2    3\n",
       "3    4\n",
       "4    5\n",
       "dtype: int64"
      ]
     },
     "execution_count": 18,
     "metadata": {},
     "output_type": "execute_result"
    }
   ],
   "source": [
    "# We dont have to use string. we can pass whole numbers, for instance,\n",
    "\n",
    "# we could see the that pandas identfied data type as int 32\n",
    "\n",
    "x = [1,2,3,4,5]\n",
    "pd.Series(x)  "
   ]
  },
  {
   "cell_type": "code",
   "execution_count": 19,
   "metadata": {},
   "outputs": [
    {
     "data": {
      "text/plain": [
       "0      Potter\n",
       "1    Hermoine\n",
       "2        None\n",
       "dtype: object"
      ]
     },
     "execution_count": 19,
     "metadata": {},
     "output_type": "execute_result"
    }
   ],
   "source": [
    "# Now, there are lot of other typing details that exists for perfomance in pandas \n",
    "# for instance we have a list of names where few of names are None\n",
    "\n",
    "# So in that case python have a None type to indicate lack of data \n",
    "# and when we pass the list into Series function pandas do some data conversion and\n",
    "# and inserts None and used object type to define missing data \n",
    "# for example,\n",
    "\n",
    "names = ['Potter', 'Hermoine', None]\n",
    "pd.Series(names)\n",
    "\n",
    "# Here we can see how pandas inserted None objects where data is missing.\n",
    "\n"
   ]
  },
  {
   "cell_type": "code",
   "execution_count": 22,
   "metadata": {},
   "outputs": [
    {
     "data": {
      "text/plain": [
       "0    1.0\n",
       "1    2.0\n",
       "2    3.0\n",
       "3    4.0\n",
       "4    NaN\n",
       "dtype: float64"
      ]
     },
     "execution_count": 22,
     "metadata": {},
     "output_type": "execute_result"
    }
   ],
   "source": [
    "# However, if we create a list of numbers, integer or float  and some data is msising\n",
    "# So in that case pandas uses NAN (not a number) in order to fill missing data.\n",
    "\n",
    "# For example\n",
    "\n",
    "arr = [1,2,3,4, None]\n",
    "pd.Series(arr)"
   ]
  },
  {
   "cell_type": "code",
   "execution_count": 29,
   "metadata": {},
   "outputs": [
    {
     "name": "stdout",
     "output_type": "stream",
     "text": [
      "False\n",
      "False\n"
     ]
    },
    {
     "data": {
      "text/plain": [
       "True"
      ]
     },
     "execution_count": 29,
     "metadata": {},
     "output_type": "execute_result"
    }
   ],
   "source": [
    "# here we can see pandas did some type conversion and converted None value into floating point\n",
    "# value designated as NaN\n",
    "\n",
    "# But i wonder why pandas converted integer value into floating point \n",
    "# it could have leave this in integer instead of changing to float\n",
    "# the anwsers is\n",
    "# the nan is floating point number and because int can be typecast into floating point\n",
    "# pandas went and converted integer into floats.\n",
    "\n",
    "# Pandas type cast the data into most general data type.\n",
    "\n",
    "# Point to remember \n",
    "# The nan is not equivalent to None these both are totally different things.\n",
    "# So when we try do some equality test, the rsult is false\n",
    "\n",
    "# for example\n",
    "import numpy as np\n",
    "print(np.nan == None)    \n",
    "\n",
    "# Here we get the result false which simple denotes that nan is not equivalent ot none\n",
    "# if we try to check\n",
    "print(np.nan == np.nan)\n",
    "\n",
    "# this also returns false because np.nan is a type of object and since we have created two objects differently the address of these objects are stored at different location\n",
    "# in the memory and trying to equality test on two different objetcs always return false\n",
    "\n",
    "\n",
    "# Instead you need to use speacial funciton to check for the presence of not a number\n",
    "\n",
    "np.isnan(np.nan)\n",
    "\n",
    "# np.isnan function helps us to do that\n",
    "# So when you see Nan value it meaning is similar to None but its a numerical value and treated differently for efficiency reasons."
   ]
  },
  {
   "cell_type": "code",
   "execution_count": 34,
   "metadata": {},
   "outputs": [
    {
     "name": "stdout",
     "output_type": "stream",
     "text": [
      "Daniel       harry\n",
      "Emma      hermoine\n",
      "Ruper          Ron\n",
      "dtype: object\n"
     ]
    },
    {
     "data": {
      "text/plain": [
       "Daniel       Harry\n",
       "Emma      Hermoine\n",
       "Ruper          Ron\n",
       "dtype: object"
      ]
     },
     "execution_count": 34,
     "metadata": {},
     "output_type": "execute_result"
    }
   ],
   "source": [
    "# So far we have seen that Pandas automatically assign index starts from zero to actual data\n",
    "# However there are some way by which we can assigns our own indexed to the data\n",
    "\n",
    "# For instance\n",
    "\n",
    "index = [\"Daniel\", \"Emma\", \"Ruper\"]\n",
    "data = [\"harry\", \"hermoine\", \"Ron\"]\n",
    "print(pd.Series(data, index = index))\n",
    "# So there is another argument with name index inside pd.Series function which let you to do this stuff.\n",
    "# However we have another method to do same using dictionaries\n",
    "\n",
    "# For instance\n",
    "\n",
    "dictionary = {\n",
    "    \"Daniel\" : \"Harry\",\n",
    "    \"Emma\" : \"Hermoine\",\n",
    "    \"Ruper\" : \"Ron\"\n",
    "}\n",
    "\n",
    "x = pd.Series(dictionary)\n",
    "# here pandas created a series where all the indexes are the keys of dictionary and actual data is value of dictionary\n",
    "x\n",
    "\n"
   ]
  },
  {
   "cell_type": "code",
   "execution_count": 35,
   "metadata": {},
   "outputs": [
    {
     "data": {
      "text/plain": [
       "Index(['Daniel', 'Emma', 'Ruper'], dtype='object')"
      ]
     },
     "execution_count": 35,
     "metadata": {},
     "output_type": "execute_result"
    }
   ],
   "source": [
    "# Once the series has been created we can get the index object using index attribute.\n",
    "x.index\n"
   ]
  },
  {
   "cell_type": "code",
   "execution_count": 38,
   "metadata": {},
   "outputs": [
    {
     "data": {
      "text/plain": [
       "array(['Harry', 'Hermoine', 'Ron'], dtype=object)"
      ]
     },
     "execution_count": 38,
     "metadata": {},
     "output_type": "execute_result"
    }
   ],
   "source": [
    "x.values # Similarlt we can access the list of values"
   ]
  },
  {
   "cell_type": "code",
   "execution_count": 43,
   "metadata": {},
   "outputs": [
    {
     "data": {
      "text/plain": [
       "Ruper         Ron\n",
       "Emma     Hermoine\n",
       "Harry         NaN\n",
       "dtype: object"
      ]
     },
     "execution_count": 43,
     "metadata": {},
     "output_type": "execute_result"
    }
   ],
   "source": [
    "dictionary = {\n",
    "    \"Daniel\" : \"Harry\",\n",
    "    \"Emma\" : \"Hermoine\",\n",
    "    \"Ruper\" : \"Ron\"\n",
    "}\n",
    "\n",
    "pd.Series(dictionary, index = [\"Ruper\",\"Emma\",\"Harry\"])\n",
    "# Here you see that index you are passing in the Series have one key missing when compared to our dataset\n",
    "# So in the situation such like this pandas created assigned nan to that place which signifies missing value\n",
    "\n"
   ]
  },
  {
   "cell_type": "markdown",
   "metadata": {},
   "source": [
    "### Querying "
   ]
  },
  {
   "cell_type": "code",
   "execution_count": 45,
   "metadata": {},
   "outputs": [
    {
     "data": {
      "text/plain": [
       "Daniel       Harry\n",
       "Emma      Hermoine\n",
       "Ruper          Ron\n",
       "dtype: object"
      ]
     },
     "execution_count": 45,
     "metadata": {},
     "output_type": "execute_result"
    }
   ],
   "source": [
    "# Now we will learn how to query an item from the series.\n",
    "# Well,In Pandas provides we have two methods to query an item \n",
    "# 1. query by index position\n",
    "# 2. quwery by index value\n",
    "\n",
    "# To query by position pandas have an attribute with name \"iloc\".\n",
    "# To query by index label pandas have an attruibute with name \"loc\".\n",
    "\n",
    "# Let's understand these with an example\n",
    "\n",
    "\n",
    "dictionary = {\n",
    "    \"Daniel\" : \"Harry\",\n",
    "    \"Emma\" : \"Hermoine\",\n",
    "    \"Ruper\" : \"Ron\"\n",
    "}\n",
    "\n",
    "s = pd.Series(dictionary)\n",
    "s"
   ]
  },
  {
   "cell_type": "code",
   "execution_count": 48,
   "metadata": {},
   "outputs": [
    {
     "data": {
      "text/plain": [
       "'Harry'"
      ]
     },
     "execution_count": 48,
     "metadata": {},
     "output_type": "execute_result"
    }
   ],
   "source": [
    "s.iloc[0]  # here we see that iloc is used for query an item using position\n",
    "\n",
    "# Pandas assignes all rows in a series with a number starting up from a zero\n",
    "# If we dont't give an index to Series when querying , the position and the label are effectively the same value.\n",
    "\n",
    "\n"
   ]
  },
  {
   "cell_type": "code",
   "execution_count": 50,
   "metadata": {},
   "outputs": [
    {
     "data": {
      "text/plain": [
       "'Hermoine'"
      ]
     },
     "execution_count": 50,
     "metadata": {},
     "output_type": "execute_result"
    }
   ],
   "source": [
    "# Similarly we can also get an item by querying a series using the index name\n",
    "s.loc[\"Emma\"]\n",
    "# Here you can see that we are using loc attribute for querying series by index name"
   ]
  },
  {
   "cell_type": "code",
   "execution_count": 54,
   "metadata": {},
   "outputs": [
    {
     "name": "stdout",
     "output_type": "stream",
     "text": [
      "Harry\n",
      "Ron\n"
     ]
    }
   ],
   "source": [
    "# Keep in mind that loc and iloc are not methods these are attributes so we dont\n",
    "# use parenthesis to query them instead we use square brackets which is called indexing operator.\n",
    "\n",
    "\n",
    "# But these attributes are veru useful when we have data present in the form\n",
    "# of multidimension like dataframe.\n",
    "# For Series pandas tries to make our code a bit more easier to understand, readable,\n",
    "# provides sort of smart syntax using the indexing operators.\n",
    "# For instance if you pass an integer parameter it will query like an iloc attribute\n",
    "\n",
    "# and if you pass an index name then it will work like loc attribute\n",
    "\n",
    "\n",
    "print(s[0])       # iloc\n",
    "print(s[\"Ruper\"]) # loc\n",
    "\n",
    " "
   ]
  },
  {
   "cell_type": "code",
   "execution_count": 67,
   "metadata": {},
   "outputs": [
    {
     "name": "stdout",
     "output_type": "stream",
     "text": [
      "71.4\n"
     ]
    }
   ],
   "source": [
    "# Now we know how to query the data from the Series\n",
    "# So let's get our hands dirty working with the data and do some sort of operations.\n",
    "# # For example , let's get an average of data present in a Series\n",
    "\n",
    "marks = pd.Series([100,90,34,56,77])\n",
    "total = 0\n",
    "for i in marks:\n",
    "    total += i\n",
    "    \n",
    "print(total / len(marks))\n",
    "    "
   ]
  },
  {
   "cell_type": "code",
   "execution_count": 70,
   "metadata": {},
   "outputs": [
    {
     "data": {
      "text/plain": [
       "71.4"
      ]
     },
     "execution_count": 70,
     "metadata": {},
     "output_type": "execute_result"
    }
   ],
   "source": [
    "# This is very simple programming stuff and you know its very slow.\n",
    "# Modern Programming has various methods to do the same stuff and apparantly\n",
    "# they are much faster than the above method\n",
    "# For instance,\n",
    "\n",
    "import numpy as np\n",
    "np.sum(marks)/len(marks)"
   ]
  },
  {
   "cell_type": "code",
   "execution_count": 125,
   "metadata": {},
   "outputs": [],
   "source": [
    "# Now both the methods generates the same value , but is one actually fatster?\n",
    "# Let's check \n",
    "# Jupyter has a magic function which can help.\n",
    "\n",
    "# First, let's create a big series of random number\n",
    "\n",
    "arr = pd.Series(np.random.randint(0,1000,10000))\n",
    "\n",
    " "
   ]
  },
  {
   "cell_type": "code",
   "execution_count": 126,
   "metadata": {},
   "outputs": [
    {
     "data": {
      "text/plain": [
       "0    306\n",
       "1    781\n",
       "2    885\n",
       "3    477\n",
       "4    944\n",
       "dtype: int32"
      ]
     },
     "execution_count": 126,
     "metadata": {},
     "output_type": "execute_result"
    }
   ],
   "source": [
    "arr.head()"
   ]
  },
  {
   "cell_type": "code",
   "execution_count": 127,
   "metadata": {},
   "outputs": [
    {
     "data": {
      "text/plain": [
       "10000"
      ]
     },
     "execution_count": 127,
     "metadata": {},
     "output_type": "execute_result"
    }
   ],
   "source": [
    "len(arr)"
   ]
  },
  {
   "cell_type": "code",
   "execution_count": 128,
   "metadata": {},
   "outputs": [],
   "source": [
    "# Now here the magin function help us to find the running time of both methods\n",
    "# Here we're gonna use timeit magical function\n",
    "# These starts with two %% sign and wrap up the code to jupyter cell\n",
    "\n",
    "\n"
   ]
  },
  {
   "cell_type": "code",
   "execution_count": 129,
   "metadata": {},
   "outputs": [
    {
     "name": "stdout",
     "output_type": "stream",
     "text": [
      "1.36 ms ± 231 µs per loop (mean ± std. dev. of 7 runs, 100 loops each)\n"
     ]
    }
   ],
   "source": [
    "%%timeit -n 100\n",
    "total = 0\n",
    "for i in arr:\n",
    "    total += i\n",
    "    \n",
    "total / len(arr)"
   ]
  },
  {
   "cell_type": "code",
   "execution_count": 130,
   "metadata": {},
   "outputs": [],
   "source": [
    "# Not bad nut let's try out timeit functon with numpy function"
   ]
  },
  {
   "cell_type": "code",
   "execution_count": 131,
   "metadata": {},
   "outputs": [
    {
     "name": "stdout",
     "output_type": "stream",
     "text": [
      "110 µs ± 13.3 µs per loop (mean ± std. dev. of 7 runs, 100 loops each)\n"
     ]
    }
   ],
   "source": [
    "%%timeit -n 100\n",
    "np.sum(arr)/len(arr)"
   ]
  },
  {
   "cell_type": "code",
   "execution_count": 132,
   "metadata": {},
   "outputs": [],
   "source": [
    "# Woahhh, huge difference isn't it\n",
    "\n",
    " "
   ]
  },
  {
   "cell_type": "code",
   "execution_count": 133,
   "metadata": {},
   "outputs": [
    {
     "data": {
      "text/plain": [
       "0    306\n",
       "1    781\n",
       "2    885\n",
       "3    477\n",
       "4    944\n",
       "dtype: int32"
      ]
     },
     "execution_count": 133,
     "metadata": {},
     "output_type": "execute_result"
    }
   ],
   "source": [
    "# Now let's understand the concept of broadcasting\n",
    "# With broadcasting you can apply an operations to every value in the series, to change each value i series\n",
    "\n",
    "\n",
    "# For example\n",
    "\n",
    "arr.head()"
   ]
  },
  {
   "cell_type": "code",
   "execution_count": 134,
   "metadata": {},
   "outputs": [
    {
     "data": {
      "text/plain": [
       "0    308\n",
       "1    783\n",
       "2    887\n",
       "3    479\n",
       "4    946\n",
       "dtype: int32"
      ]
     },
     "execution_count": 134,
     "metadata": {},
     "output_type": "execute_result"
    }
   ],
   "source": [
    "arr+=2\n",
    "arr.head()"
   ]
  },
  {
   "cell_type": "code",
   "execution_count": 135,
   "metadata": {},
   "outputs": [
    {
     "data": {
      "text/plain": [
       "0    310\n",
       "1    785\n",
       "2    889\n",
       "3    481\n",
       "4    948\n",
       "dtype: int32"
      ]
     },
     "execution_count": 135,
     "metadata": {},
     "output_type": "execute_result"
    }
   ],
   "source": [
    "# here we can see that after applying the opeation arr+=2 broadcasting\n",
    "# technique apply this operation to every value present inside an array\n",
    "# and result is in front of you.\n",
    "\n",
    "# the procedural technique to this is to iterate all over an array and assign each index\n",
    "# with an incremented value.\n",
    "\n",
    "# Pandas does support iterating over a  series like a dictionary allowing you to unpack values easily.\n",
    "\n",
    "for label, value in arr.iteritems():\n",
    "    # label return index and value return actual data\n",
    "    arr.iloc[label] = value+2\n",
    "    \n",
    "arr.head()"
   ]
  },
  {
   "cell_type": "code",
   "execution_count": 137,
   "metadata": {},
   "outputs": [
    {
     "data": {
      "text/plain": [
       "Allen     A\n",
       "Molly     B\n",
       "Bridge    K\n",
       "dtype: object"
      ]
     },
     "execution_count": 137,
     "metadata": {},
     "output_type": "execute_result"
    }
   ],
   "source": [
    "# Until now we have only seen the examples of Series where index values were \n",
    "# unique. Now we will take the example that have not uniue indexes\n",
    "\n",
    "# lets create an Series of Students with the grades\n",
    "\n",
    "grades = pd.Series({\n",
    "    \"Allen\" : \"A\",\n",
    "    \"Molly\" : \"B\",\n",
    "    \"Bridge\" : \"K\",\n",
    "   \n",
    "})\n",
    "grades"
   ]
  },
  {
   "cell_type": "code",
   "execution_count": 139,
   "metadata": {},
   "outputs": [
    {
     "data": {
      "text/plain": [
       "Mark    A\n",
       "Mark    C\n",
       "Mark    D\n",
       "dtype: object"
      ]
     },
     "execution_count": 139,
     "metadata": {},
     "output_type": "execute_result"
    }
   ],
   "source": [
    "grades_b = pd.Series([\"A\",\"C\",\"D\"], index = [\"Mark\",\"Mark\", \"Mark\"])\n",
    "grades_b"
   ]
  },
  {
   "cell_type": "code",
   "execution_count": 143,
   "metadata": {},
   "outputs": [
    {
     "data": {
      "text/plain": [
       "Allen     A\n",
       "Molly     B\n",
       "Bridge    K\n",
       "Mark      A\n",
       "Mark      C\n",
       "Mark      D\n",
       "dtype: object"
      ]
     },
     "execution_count": 143,
     "metadata": {},
     "output_type": "execute_result"
    }
   ],
   "source": [
    "# You see here pandas does not have any problem with same indxed it manages to put\n",
    "# the data into data structure inspite of same index value\n",
    "\n",
    "\n",
    "# Let's append grades_b and grades and store that data into another variable\n",
    "\n",
    "combined = grades.append(grades_b)\n",
    "combined"
   ]
  },
  {
   "cell_type": "code",
   "execution_count": null,
   "metadata": {},
   "outputs": [],
   "source": [
    "# There are two things that are taken under consideration\n",
    "# First thing is, Since the data is all in String so there is not problem \n",
    "# But when data is present is different formats Pandas try to infer the best data types to use\n",
    "\n",
    "\n",
    "# Another things is append method doesn't actually change the underlying Series Object\n",
    "# instead it returns the whole new Series made up of two appended together\n",
    "\n",
    "\n",
    "\n",
    "\n"
   ]
  }
 ],
 "metadata": {
  "kernelspec": {
   "display_name": "Python 3",
   "language": "python",
   "name": "python3"
  },
  "language_info": {
   "codemirror_mode": {
    "name": "ipython",
    "version": 3
   },
   "file_extension": ".py",
   "mimetype": "text/x-python",
   "name": "python",
   "nbconvert_exporter": "python",
   "pygments_lexer": "ipython3",
   "version": "3.7.3"
  }
 },
 "nbformat": 4,
 "nbformat_minor": 2
}
