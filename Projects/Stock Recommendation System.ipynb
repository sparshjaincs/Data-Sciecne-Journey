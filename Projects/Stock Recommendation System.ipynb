{
 "cells": [
  {
   "cell_type": "code",
   "execution_count": 55,
   "metadata": {},
   "outputs": [],
   "source": [
    "import pandas as pd\n",
    "import numpy as np\n",
    "import matplotlib.pyplot as plt\n",
    "import requests\n",
    "from bs4 import BeautifulSoup as bs\n"
   ]
  },
  {
   "cell_type": "code",
   "execution_count": 39,
   "metadata": {},
   "outputs": [],
   "source": [
    "# First Stock names Collection \n",
    "\n"
   ]
  },
  {
   "cell_type": "code",
   "execution_count": 92,
   "metadata": {},
   "outputs": [],
   "source": [
    "stock_db = pd.DataFrame(columns = [\"Name\",\"Category\"])"
   ]
  },
  {
   "cell_type": "code",
   "execution_count": 95,
   "metadata": {},
   "outputs": [
    {
     "name": "stdout",
     "output_type": "stream",
     "text": [
      "00000001\n",
      "https://screener.in/company/compare/00000001/?limit=50&page=1\n",
      "https://screener.in/company/compare/00000001/?limit=50&page=2\n",
      "00000002\n",
      "https://screener.in/company/compare/00000002/?limit=50&page=1\n",
      "https://screener.in/company/compare/00000002/?limit=50&page=2\n",
      "00000003\n",
      "https://screener.in/company/compare/00000003/?limit=50&page=1\n",
      "https://screener.in/company/compare/00000003/?limit=50&page=2\n",
      "00000004\n",
      "https://screener.in/company/compare/00000004/?limit=50&page=1\n",
      "https://screener.in/company/compare/00000004/?limit=50&page=2\n",
      "https://screener.in/company/compare/00000004/?limit=50&page=3\n",
      "https://screener.in/company/compare/00000004/?limit=50&page=4\n",
      "https://screener.in/company/compare/00000004/?limit=50&page=5\n",
      "https://screener.in/company/compare/00000004/?limit=50&page=6\n",
      "00000005\n",
      "https://screener.in/company/compare/00000005/?limit=50&page=1\n",
      "https://screener.in/company/compare/00000005/?limit=50&page=2\n",
      "00000006\n",
      "https://screener.in/company/compare/00000006/?limit=50&page=1\n",
      "https://screener.in/company/compare/00000006/?limit=50&page=2\n",
      "https://screener.in/company/compare/00000006/?limit=50&page=3\n",
      "00000007\n",
      "https://screener.in/company/compare/00000007/?limit=50&page=1\n",
      "https://screener.in/company/compare/00000007/?limit=50&page=2\n",
      "00000008\n",
      "https://screener.in/company/compare/00000008/?limit=50&page=1\n",
      "https://screener.in/company/compare/00000008/?limit=50&page=2\n",
      "https://screener.in/company/compare/00000008/?limit=50&page=3\n",
      "https://screener.in/company/compare/00000008/?limit=50&page=4\n",
      "00000009\n",
      "https://screener.in/company/compare/00000009/?limit=50&page=1\n",
      "https://screener.in/company/compare/00000009/?limit=50&page=2\n",
      "https://screener.in/company/compare/00000009/?limit=50&page=3\n",
      "https://screener.in/company/compare/00000009/?limit=50&page=4\n",
      "https://screener.in/company/compare/00000009/?limit=50&page=5\n",
      "https://screener.in/company/compare/00000009/?limit=50&page=6\n",
      "00000010\n",
      "https://screener.in/company/compare/00000010/?limit=50&page=1\n",
      "https://screener.in/company/compare/00000010/?limit=50&page=2\n",
      "https://screener.in/company/compare/00000010/?limit=50&page=3\n",
      "00000011\n",
      "https://screener.in/company/compare/00000011/?limit=50&page=1\n",
      "https://screener.in/company/compare/00000011/?limit=50&page=2\n",
      "https://screener.in/company/compare/00000011/?limit=50&page=3\n",
      "00000012\n",
      "https://screener.in/company/compare/00000012/?limit=50&page=1\n",
      "00000013\n",
      "https://screener.in/company/compare/00000013/?limit=50&page=1\n",
      "https://screener.in/company/compare/00000013/?limit=50&page=2\n",
      "00000014\n",
      "https://screener.in/company/compare/00000014/?limit=50&page=1\n",
      "00000015\n",
      "https://screener.in/company/compare/00000015/?limit=50&page=1\n",
      "https://screener.in/company/compare/00000015/?limit=50&page=2\n",
      "00000016\n",
      "https://screener.in/company/compare/00000016/?limit=50&page=1\n",
      "00000017\n",
      "https://screener.in/company/compare/00000017/?limit=50&page=1\n",
      "https://screener.in/company/compare/00000017/?limit=50&page=2\n",
      "00000018\n",
      "https://screener.in/company/compare/00000018/?limit=50&page=1\n",
      "https://screener.in/company/compare/00000018/?limit=50&page=2\n",
      "00000019\n",
      "https://screener.in/company/compare/00000019/?limit=50&page=1\n",
      "00000020\n",
      "https://screener.in/company/compare/00000020/?limit=50&page=1\n",
      "https://screener.in/company/compare/00000020/?limit=50&page=2\n",
      "https://screener.in/company/compare/00000020/?limit=50&page=3\n",
      "00000021\n",
      "https://screener.in/company/compare/00000021/?limit=50&page=1\n",
      "https://screener.in/company/compare/00000021/?limit=50&page=2\n",
      "00000022\n",
      "https://screener.in/company/compare/00000022/?limit=50&page=1\n",
      "00000023\n",
      "https://screener.in/company/compare/00000023/?limit=50&page=1\n",
      "https://screener.in/company/compare/00000023/?limit=50&page=2\n",
      "00000024\n",
      "https://screener.in/company/compare/00000024/?limit=50&page=1\n",
      "00000025\n",
      "https://screener.in/company/compare/00000025/?limit=50&page=1\n",
      "https://screener.in/company/compare/00000025/?limit=50&page=2\n",
      "00000026\n",
      "https://screener.in/company/compare/00000026/?limit=50&page=1\n",
      "00000027\n",
      "https://screener.in/company/compare/00000027/?limit=50&page=1\n",
      "https://screener.in/company/compare/00000027/?limit=50&page=2\n",
      "00000028\n",
      "https://screener.in/company/compare/00000028/?limit=50&page=1\n",
      "https://screener.in/company/compare/00000028/?limit=50&page=2\n",
      "00000029\n",
      "https://screener.in/company/compare/00000029/?limit=50&page=1\n",
      "https://screener.in/company/compare/00000029/?limit=50&page=2\n",
      "00000030\n",
      "https://screener.in/company/compare/00000030/?limit=50&page=1\n",
      "https://screener.in/company/compare/00000030/?limit=50&page=2\n",
      "00000031\n",
      "https://screener.in/company/compare/00000031/?limit=50&page=1\n",
      "00000032\n",
      "https://screener.in/company/compare/00000032/?limit=50&page=1\n",
      "https://screener.in/company/compare/00000032/?limit=50&page=2\n",
      "00000033\n",
      "https://screener.in/company/compare/00000033/?limit=50&page=1\n",
      "00000034\n",
      "https://screener.in/company/compare/00000034/?limit=50&page=1\n",
      "https://screener.in/company/compare/00000034/?limit=50&page=2\n",
      "00000035\n",
      "https://screener.in/company/compare/00000035/?limit=50&page=1\n",
      "00000036\n",
      "https://screener.in/company/compare/00000036/?limit=50&page=1\n",
      "https://screener.in/company/compare/00000036/?limit=50&page=2\n",
      "00000037\n",
      "https://screener.in/company/compare/00000037/?limit=50&page=1\n",
      "https://screener.in/company/compare/00000037/?limit=50&page=2\n",
      "00000038\n",
      "https://screener.in/company/compare/00000038/?limit=50&page=1\n",
      "00000039\n",
      "https://screener.in/company/compare/00000039/?limit=50&page=1\n",
      "https://screener.in/company/compare/00000039/?limit=50&page=2\n",
      "00000040\n",
      "https://screener.in/company/compare/00000040/?limit=50&page=1\n",
      "00000041\n",
      "https://screener.in/company/compare/00000041/?limit=50&page=1\n",
      "https://screener.in/company/compare/00000041/?limit=50&page=2\n",
      "00000042\n",
      "https://screener.in/company/compare/00000042/?limit=50&page=1\n",
      "00000043\n",
      "https://screener.in/company/compare/00000043/?limit=50&page=1\n",
      "https://screener.in/company/compare/00000043/?limit=50&page=2\n",
      "00000044\n",
      "https://screener.in/company/compare/00000044/?limit=50&page=1\n",
      "00000045\n",
      "https://screener.in/company/compare/00000045/?limit=50&page=1\n",
      "https://screener.in/company/compare/00000045/?limit=50&page=2\n",
      "00000046\n",
      "https://screener.in/company/compare/00000046/?limit=50&page=1\n",
      "00000047\n",
      "https://screener.in/company/compare/00000047/?limit=50&page=1\n",
      "https://screener.in/company/compare/00000047/?limit=50&page=2\n",
      "00000048\n",
      "https://screener.in/company/compare/00000048/?limit=50&page=1\n",
      "https://screener.in/company/compare/00000048/?limit=50&page=2\n",
      "00000049\n",
      "https://screener.in/company/compare/00000049/?limit=50&page=1\n",
      "00000050\n",
      "https://screener.in/company/compare/00000050/?limit=50&page=1\n",
      "https://screener.in/company/compare/00000050/?limit=50&page=2\n",
      "00000051\n",
      "https://screener.in/company/compare/00000051/?limit=50&page=1\n",
      "00000052\n",
      "https://screener.in/company/compare/00000052/?limit=50&page=1\n",
      "https://screener.in/company/compare/00000052/?limit=50&page=2\n",
      "00000053\n",
      "https://screener.in/company/compare/00000053/?limit=50&page=1\n",
      "00000054\n",
      "https://screener.in/company/compare/00000054/?limit=50&page=1\n",
      "https://screener.in/company/compare/00000054/?limit=50&page=2\n",
      "00000055\n",
      "https://screener.in/company/compare/00000055/?limit=50&page=1\n",
      "https://screener.in/company/compare/00000055/?limit=50&page=2\n",
      "00000056\n",
      "https://screener.in/company/compare/00000056/?limit=50&page=1\n",
      "00000057\n",
      "https://screener.in/company/compare/00000057/?limit=50&page=1\n",
      "https://screener.in/company/compare/00000057/?limit=50&page=2\n",
      "00000058\n",
      "https://screener.in/company/compare/00000058/?limit=50&page=1\n",
      "https://screener.in/company/compare/00000058/?limit=50&page=2\n",
      "00000059\n",
      "https://screener.in/company/compare/00000059/?limit=50&page=1\n",
      "00000060\n",
      "https://screener.in/company/compare/00000060/?limit=50&page=1\n",
      "https://screener.in/company/compare/00000060/?limit=50&page=2\n",
      "00000061\n",
      "https://screener.in/company/compare/00000061/?limit=50&page=1\n",
      "00000062\n",
      "https://screener.in/company/compare/00000062/?limit=50&page=1\n",
      "https://screener.in/company/compare/00000062/?limit=50&page=2\n",
      "00000063\n",
      "https://screener.in/company/compare/00000063/?limit=50&page=1\n",
      "00000064\n",
      "https://screener.in/company/compare/00000064/?limit=50&page=1\n",
      "https://screener.in/company/compare/00000064/?limit=50&page=2\n",
      "00000065\n",
      "https://screener.in/company/compare/00000065/?limit=50&page=1\n"
     ]
    },
    {
     "data": {
      "text/plain": [
       "<bound method NDFrame.head of                  Name                  Category\n",
       "0                 UPL  Agro Chemicals companies\n",
       "1      P I Industries  Agro Chemicals companies\n",
       "2     Bayer Crop Sci.  Agro Chemicals companies\n",
       "3     Sumitomo Chemi.  Agro Chemicals companies\n",
       "4        Rallis India  Agro Chemicals companies\n",
       "...               ...                       ...\n",
       "1271  Suumaya Indust.         Trading companies\n",
       "1272   Tilak Ventures         Trading companies\n",
       "1273   Seacoast Ship.         Trading companies\n",
       "1274  Ravindra Energy         Trading companies\n",
       "1275            S T C         Trading companies\n",
       "\n",
       "[1276 rows x 2 columns]>"
      ]
     },
     "execution_count": 95,
     "metadata": {},
     "output_type": "execute_result"
    }
   ],
   "source": [
    "stock_db = pd.DataFrame(columns = [\"Name\",\"Category\"])\n",
    "for i in range(1,66):\n",
    "    if i<10:\n",
    "        category = f\"0000000{i}\"\n",
    "    else:\n",
    "        category = f\"000000{i}\"\n",
    "    print(category)\n",
    "\n",
    "    page = 1\n",
    "    last = \"\"\n",
    "    prev = \"\"\n",
    "    limit = 50\n",
    "    while True:\n",
    "        url = f\"https://screener.in/company/compare/{category}/?limit={limit}&page={page}\"\n",
    "        print(url)\n",
    "        HEADERS = ({'User-Agent':\n",
    "               'Custom',\n",
    "                               'Accept-Language': 'en-US, en;q=0.5'})\n",
    "        data = requests.get(url, headers = HEADERS)\n",
    "        if data.status_code == 200:\n",
    "            soup = bs(data.content,\"lxml\")\n",
    "            for i,j in enumerate(soup.find_all(\"tr\")):\n",
    "                if i != 0:\n",
    "                    try:\n",
    "                        name = j.find_all(\"td\", attrs = {\"class\" : \"text\"})[-1].text.strip()\n",
    "                        cate = soup.find(\"h1\").text\n",
    "                        stock_db = stock_db.append(pd.DataFrame([[name, cate]], columns = [\"Name\",\"Category\"]), ignore_index = True)\n",
    "                        last = name\n",
    "                    except:\n",
    "                        continue\n",
    "            if prev != last:\n",
    "                page +=1\n",
    "                prev = last\n",
    "            else:\n",
    "                break\n",
    "\n",
    "        else:\n",
    "            break\n",
    "        \n",
    "stock_db.head"
   ]
  },
  {
   "cell_type": "markdown",
   "metadata": {},
   "source": []
  },
  {
   "cell_type": "code",
   "execution_count": 97,
   "metadata": {},
   "outputs": [],
   "source": [
    "stock_db.to_csv(\"Stock_Names.csv\") # Saving csv file"
   ]
  },
  {
   "cell_type": "code",
   "execution_count": null,
   "metadata": {},
   "outputs": [],
   "source": [
    "# Collecting five years stock price"
   ]
  },
  {
   "cell_type": "code",
   "execution_count": 100,
   "metadata": {},
   "outputs": [
    {
     "data": {
      "text/html": [
       "<div>\n",
       "<style scoped>\n",
       "    .dataframe tbody tr th:only-of-type {\n",
       "        vertical-align: middle;\n",
       "    }\n",
       "\n",
       "    .dataframe tbody tr th {\n",
       "        vertical-align: top;\n",
       "    }\n",
       "\n",
       "    .dataframe thead th {\n",
       "        text-align: right;\n",
       "    }\n",
       "</style>\n",
       "<table border=\"1\" class=\"dataframe\">\n",
       "  <thead>\n",
       "    <tr style=\"text-align: right;\">\n",
       "      <th></th>\n",
       "      <th>Name</th>\n",
       "      <th>Category</th>\n",
       "    </tr>\n",
       "  </thead>\n",
       "  <tbody>\n",
       "    <tr>\n",
       "      <th>941</th>\n",
       "      <td>TCS</td>\n",
       "      <td>IT - Software companies</td>\n",
       "    </tr>\n",
       "  </tbody>\n",
       "</table>\n",
       "</div>"
      ],
      "text/plain": [
       "    Name                 Category\n",
       "941  TCS  IT - Software companies"
      ]
     },
     "execution_count": 100,
     "metadata": {},
     "output_type": "execute_result"
    }
   ],
   "source": [
    "stock_db[stock_db[\"Name\"] == \"TCS\"]"
   ]
  },
  {
   "cell_type": "code",
   "execution_count": 113,
   "metadata": {},
   "outputs": [
    {
     "name": "stdout",
     "output_type": "stream",
     "text": [
      "\n"
     ]
    }
   ],
   "source": [
    "import requests\n",
    "\n",
    "url = \"https://yh-finance.p.rapidapi.com/stock/v3/get-historical-data\"\n",
    "\n",
    "querystring = {\"symbol\":\"Adani\",\"region\":\"IN\"}\n",
    "\n",
    "headers = {\n",
    "    'x-rapidapi-host': \"yh-finance.p.rapidapi.com\",\n",
    "    'x-rapidapi-key': \"7a19c1191dmsh541ae74fcd60759p1c1d68jsnfe0e28b393c8\"\n",
    "    }\n",
    "\n",
    "response = requests.request(\"GET\", url, headers=headers, params=querystring)\n",
    "\n",
    "print(response.text)"
   ]
  },
  {
   "cell_type": "code",
   "execution_count": 111,
   "metadata": {},
   "outputs": [
    {
     "data": {
      "text/plain": [
       "252"
      ]
     },
     "execution_count": 111,
     "metadata": {},
     "output_type": "execute_result"
    }
   ],
   "source": [
    "import json\n",
    "len(json.loads(response.text)['prices'])"
   ]
  },
  {
   "cell_type": "code",
   "execution_count": 114,
   "metadata": {},
   "outputs": [
    {
     "name": "stdout",
     "output_type": "stream",
     "text": [
      "{\"marketSummaryAndSparkResponse\":{\"result\":[{\"exchangeTimezoneName\":\"Asia/Kolkata\",\"fullExchangeName\":\"BSE\",\"symbol\":\"^BSESN\",\"gmtOffSetMilliseconds\":19800000,\"exchangeDataDelayedBy\":0,\"firstTradeDateMilliseconds\":867728700000,\"language\":\"en-IN\",\"regularMarketTime\":{\"raw\":1638521866,\"fmt\":\"2:27PM IST\"},\"exchangeTimezoneShortName\":\"IST\",\"quoteType\":\"INDEX\",\"marketState\":\"REGULAR\",\"market\":\"in_market\",\"spark\":{\"symbol\":\"^BSESN\",\"timestamp\":[1638503100,1638503400,1638503700,1638504000,1638504300,1638504600,1638504900,1638505200,1638505500,1638505800,1638506100,1638506400,1638506700,1638507000,1638507300,1638507600,1638507900,1638508200,1638508500,1638508800,1638509100,1638509400,1638509700,1638510000,1638510300,1638510600,1638510900,1638511200,1638511500,1638511800,1638512100,1638512400,1638512700,1638513000,1638513300,1638513600,1638513900,1638514200,1638514500,1638514800,1638515100,1638515400,1638515700,1638516000,1638516300,1638516600,1638516900,1638517200,1638517500,1638517800,1638518100,1638518400,1638518700,1638519000,1638519300,1638519600,1638519900,1638520200,1638520500,1638520800,1638521100,1638521400,1638521700,1638521866],\"previousClose\":58461.29,\"chartPreviousClose\":58461.29,\"end\":1638525600,\"start\":1638503100,\"close\":[58712.2,58655.72,58677.63,58691.96,58614.81,58522.88,58605.87,58394.77,58413.85,58342.66,58390.35,58417.23,58280.27,58312.37,58352.02,58354.22,58337.13,58355.35,58355.95,58395.35,58378.42,58354.97,58408.62,58457.27,58439.43,58445.85,58409.23,58390.89,58439.07,58451.9,58420.71,58417.68,58406.16,58395.26,58352.09,58358.83,58364.09,58333.34,58275.39,58190.77,58236.06,58130.74,58111.65,58111.91,58141.66,58125.89,58090.18,58030.35,58045.95,58050.77,57973.32,57943.28,57972.97,57932.14,57969.24,58006.45,57990.8,57957.82,57941.47,57853.86,57801.9,57864.86,57847.55,57837.64],\"dataGranularity\":300},\"priceHint\":2,\"tradeable\":false,\"sourceInterval\":10,\"exchange\":\"BSE\",\"region\":\"IN\",\"shortName\":\"BSE SENSEX\",\"regularMarketPreviousClose\":{\"raw\":58461.29,\"fmt\":\"58,461.29\"},\"triggerable\":false},{\"exchangeTimezoneName\":\"Asia/Kolkata\",\"fullExchangeName\":\"NSE\",\"symbol\":\"^NSEI\",\"gmtOffSetMilliseconds\":19800000,\"exchangeDataDelayedBy\":15,\"firstTradeDateMilliseconds\":1190000700000,\"language\":\"en-IN\",\"regularMarketTime\":{\"raw\":1638521867,\"fmt\":\"2:27PM IST\"},\"exchangeTimezoneShortName\":\"IST\",\"quoteType\":\"INDEX\",\"marketState\":\"REGULAR\",\"market\":\"in_market\",\"spark\":{\"symbol\":\"^NSEI\",\"timestamp\":[1638503100,1638503400,1638503700,1638504000,1638504300,1638504600,1638504900,1638505200,1638505500,1638505800,1638506100,1638506400,1638506700,1638507000,1638507300,1638507600,1638507900,1638508200,1638508500,1638508800,1638509100,1638509400,1638509700,1638510000,1638510300,1638510600,1638510900,1638511200,1638511500,1638511800,1638512100,1638512400,1638512700,1638513000,1638513300,1638513600,1638513900,1638514200,1638514500,1638514800,1638515100,1638515400,1638515700,1638516000,1638516300,1638516600,1638516900,1638517200,1638517500,1638517800,1638518100,1638518400,1638518700,1638519000,1638519300,1638519600,1638519900,1638520200,1638520500,1638520800,1638521100,1638521400,1638521700,1638521867],\"previousClose\":17401.65,\"chartPreviousClose\":17401.65,\"end\":1638525600,\"start\":1638503100,\"close\":[17477.25,17458.25,17466.55,17468.2,17446.2,17421.25,17441.85,17384.75,17388.25,17367.1,17383.65,17393.05,17354.25,17365.45,17376.3,17376.35,17371.7,17378.3,17379.1,17389.8,17386.65,17379.95,17395.35,17407.35,17405.2,17406.4,17395.65,17391.55,17406.55,17411.2,17401.25,17397.05,17395.3,17394.0,17381.8,17382.7,17384.2,17375.05,17359.5,17335.7,17346.6,17317.9,17311.2,17315.4,17322.1,17317.55,17310.85,17289.55,17296.4,17297.1,17277.35,17267.95,17276.8,17265.35,17273.35,17285.1,17280.5,17274.45,17268.5,17240.3,17223.6,17243.45,17235.25,17232.15],\"dataGranularity\":300},\"priceHint\":2,\"tradeable\":false,\"sourceInterval\":15,\"exchange\":\"NSI\",\"region\":\"IN\",\"shortName\":\"Nifty 50\",\"regularMarketPreviousClose\":{\"raw\":17401.65,\"fmt\":\"17,401.65\"},\"triggerable\":false},{\"exchangeTimezoneName\":\"Europe/London\",\"fullExchangeName\":\"CCY\",\"symbol\":\"INR=X\",\"gmtOffSetMilliseconds\":0,\"exchangeDataDelayedBy\":0,\"firstTradeDateMilliseconds\":1070236800000,\"language\":\"en-US\",\"regularMarketTime\":{\"raw\":1638521857,\"fmt\":\"8:57AM GMT\"},\"exchangeTimezoneShortName\":\"GMT\",\"quoteType\":\"CURRENCY\",\"marketState\":\"REGULAR\",\"market\":\"ccy_market\",\"spark\":{\"symbol\":\"INR=X\",\"timestamp\":[1638501300,1638501900,1638502200,1638502500,1638502800,1638503100,1638503400,1638503700,1638504000,1638504300,1638504600,1638504900,1638505200,1638505500,1638505800,1638506100,1638506400,1638506700,1638507000,1638507300,1638507600,1638507900,1638508200,1638508500,1638508800,1638509100,1638509400,1638509700,1638510000,1638510300,1638510600,1638510900,1638511200,1638511500,1638511800,1638512100,1638512400,1638512700,1638513000,1638513300,1638513600,1638513900,1638514200,1638514500,1638514800,1638515100,1638515400,1638515700,1638516000,1638516300,1638516600,1638516900,1638517200,1638517500,1638517800,1638518100,1638518400,1638518700,1638519000,1638519300,1638519600,1638519900,1638520200,1638520500,1638520800,1638521100,1638521400,1638521700,1638521857],\"previousClose\":74.962,\"chartPreviousClose\":74.962,\"end\":1638575940,\"start\":1638489600,\"close\":[75.01,75.02,74.997,75.02,75.017,74.99,75.002,75.004,75.013,74.991,74.995,74.985,74.97,74.98,75.005,74.99,74.965,74.97,74.969,75.005,74.987,74.972,74.9775,74.965,74.953,74.975,74.957,74.963,74.97,74.978,74.976,74.993,74.982,74.995,74.969,74.99,74.9675,74.965,74.97,74.972,74.9825,74.988,75.005,75.013,75.0375,75.045,75.046,75.024,75.0325,75.043,75.036,75.032,75.03,75.024,75.03,75.045,75.051,75.065,75.065,75.088,75.07,75.066,75.07,75.09,75.095,75.115,75.12,75.11,75.105],\"dataGranularity\":300},\"priceHint\":4,\"tradeable\":false,\"sourceInterval\":15,\"exchange\":\"CCY\",\"region\":\"US\",\"shortName\":\"USD/INR\",\"regularMarketPreviousClose\":{\"raw\":74.962,\"fmt\":\"74.9620\"},\"triggerable\":false},{\"exchangeTimezoneName\":\"America/New_York\",\"fullExchangeName\":\"DJI\",\"symbol\":\"^DJI\",\"gmtOffSetMilliseconds\":-18000000,\"exchangeDataDelayedBy\":0,\"firstTradeDateMilliseconds\":694362600000,\"language\":\"en-IN\",\"regularMarketTime\":{\"raw\":1638482930,\"fmt\":\"5:08PM EST\"},\"exchangeTimezoneShortName\":\"EST\",\"quoteType\":\"INDEX\",\"marketState\":\"PREPRE\",\"market\":\"us_market\",\"spark\":{\"symbol\":\"^DJI\",\"timestamp\":[1638455400,1638455700,1638456000,1638456300,1638456600,1638456900,1638457200,1638457500,1638457800,1638458100,1638458400,1638458700,1638459000,1638459300,1638459600,1638459900,1638460200,1638460500,1638460800,1638461100,1638461400,1638461700,1638462000,1638462300,1638462600,1638462900,1638463200,1638463500,1638463800,1638464100,1638464400,1638464700,1638465000,1638465300,1638465600,1638465900,1638466200,1638466500,1638466800,1638467100,1638467400,1638467700,1638468000,1638468300,1638468600,1638468900,1638469200,1638469500,1638469800,1638470100,1638470400,1638470700,1638471000,1638471300,1638471600,1638471900,1638472200,1638472500,1638472800,1638473100,1638473400,1638473700,1638474000,1638474300,1638474600,1638474900,1638475200,1638475500,1638475800,1638476100,1638476400,1638476700,1638477000,1638477300,1638477600,1638477900,1638478200,1638478500],\"previousClose\":34022.04,\"chartPreviousClose\":34022.04,\"end\":1638478800,\"start\":1638455400,\"close\":[34101.46,34289.93,34370.1,34419.5,34495.23,34517.52,34482.25,34415.27,34444.51,34429.09,34476.52,34473.68,34409.55,34322.15,34310.4,34403.96,34381.19,34505.0,34465.56,34551.77,34544.22,34555.13,34569.54,34581.4,34488.74,34538.95,34527.33,34592.53,34613.24,34642.73,34650.99,34658.04,34685.15,34675.28,34688.47,34681.56,34661.17,34656.6,34649.46,34694.11,34659.54,34655.08,34671.31,34648.34,34680.07,34664.56,34614.73,34601.38,34640.69,34652.1,34647.67,34630.27,34682.54,34712.28,34695.73,34702.79,34695.69,34725.88,34708.84,34744.2,34728.38,34726.2,34716.46,34676.05,34671.63,34670.02,34688.76,34689.43,34665.86,34652.3,34651.84,34677.61,34721.05,34706.99,34733.08,34725.6,34627.78,34641.58],\"dataGranularity\":300},\"priceHint\":2,\"tradeable\":false,\"sourceInterval\":120,\"exchange\":\"DJI\",\"region\":\"IN\",\"shortName\":\"Dow\",\"regularMarketPreviousClose\":{\"raw\":34022.04,\"fmt\":\"34,022.04\"},\"triggerable\":false},{\"exchangeTimezoneName\":\"America/New_York\",\"fullExchangeName\":\"Nasdaq GIDS\",\"symbol\":\"^IXIC\",\"gmtOffSetMilliseconds\":-18000000,\"exchangeDataDelayedBy\":0,\"firstTradeDateMilliseconds\":34612200000,\"language\":\"en-IN\",\"regularMarketTime\":{\"raw\":1638483359,\"fmt\":\"5:15PM EST\"},\"exchangeTimezoneShortName\":\"EST\",\"quoteType\":\"INDEX\",\"marketState\":\"PREPRE\",\"market\":\"us_market\",\"spark\":{\"symbol\":\"^IXIC\",\"timestamp\":[1638455400,1638455700,1638456000,1638456300,1638456600,1638456900,1638457200,1638457500,1638457800,1638458100,1638458400,1638458700,1638459000,1638459300,1638459600,1638459900,1638460200,1638460500,1638460800,1638461100,1638461400,1638461700,1638462000,1638462300,1638462600,1638462900,1638463200,1638463500,1638463800,1638464100,1638464400,1638464700,1638465000,1638465300,1638465600,1638465900,1638466200,1638466500,1638466800,1638467100,1638467400,1638467700,1638468000,1638468300,1638468600,1638468900,1638469200,1638469500,1638469800,1638470100,1638470400,1638470700,1638471000,1638471300,1638471600,1638471900,1638472200,1638472500,1638472800,1638473100,1638473400,1638473700,1638474000,1638474300,1638474600,1638474900,1638475200,1638475500,1638475800,1638476100,1638476400,1638476700,1638477000,1638477300,1638477600,1638477900,1638478200,1638478500],\"previousClose\":15254.052,\"chartPreviousClose\":15254.052,\"end\":1638478800,\"start\":1638455400,\"close\":[15219.6,15314.403,15320.164,15334.491,15371.102,15373.229,15400.012,15318.719,15294.38,15248.649,15269.129,15287.089,15235.955,15192.596,15158.439,15210.974,15189.207,15271.378,15252.17,15307.604,15311.952,15336.354,15320.039,15337.848,15276.849,15293.583,15284.028,15301.459,15303.57,15334.131,15352.352,15376.807,15377.581,15384.094,15414.884,15414.271,15397.0,15389.695,15383.093,15411.923,15377.136,15374.663,15371.069,15356.181,15375.047,15358.351,15323.625,15315.204,15345.761,15352.695,15337.252,15317.157,15366.942,15381.456,15377.972,15376.128,15364.455,15394.488,15380.385,15398.282,15394.454,15388.149,15383.578,15360.367,15351.954,15376.52,15399.087,15407.688,15385.646,15381.198,15373.387,15377.646,15414.467,15424.528,15429.039,15419.797,15371.254,15373.873],\"dataGranularity\":300},\"priceHint\":2,\"tradeable\":false,\"sourceInterval\":15,\"exchange\":\"NIM\",\"region\":\"IN\",\"shortName\":\"Nasdaq\",\"regularMarketPreviousClose\":{\"raw\":15254.052,\"fmt\":\"15,254.05\"},\"triggerable\":false},{\"exchangeTimezoneName\":\"UTC\",\"fullExchangeName\":\"CCC\",\"symbol\":\"BTC-INR\",\"gmtOffSetMilliseconds\":0,\"exchangeDataDelayedBy\":0,\"firstTradeDateMilliseconds\":1568764800000,\"language\":\"en-IN\",\"regularMarketTime\":{\"raw\":1638521811,\"fmt\":\"8:56AM UTC\"},\"exchangeTimezoneShortName\":\"UTC\",\"quoteType\":\"CRYPTOCURRENCY\",\"marketState\":\"REGULAR\",\"market\":\"ccc_market\",\"spark\":{\"symbol\":\"BTC-INR\",\"timestamp\":[1638489600,1638489900,1638490200,1638490500,1638490800,1638491100,1638491400,1638491700,1638492000,1638492300,1638492600,1638492900,1638493200,1638493500,1638493800,1638494100,1638494400,1638494700,1638495000,1638495300,1638495600,1638495900,1638496200,1638496500,1638496800,1638497100,1638497400,1638497700,1638498000,1638498300,1638498600,1638498900,1638499200,1638499500,1638499800,1638500100,1638500400,1638500700,1638501000,1638501300,1638501600,1638501900,1638502200,1638502500,1638502800,1638503100,1638503400,1638503700,1638504000,1638504300,1638504600,1638504900,1638505200,1638505500,1638505800,1638506100,1638506400,1638506700,1638507000,1638507300,1638507600,1638507900,1638508200,1638508500,1638508800,1638509100,1638509400,1638509700,1638510000,1638510300,1638510600,1638510900,1638511200,1638511500,1638511800,1638512100,1638512400,1638512700,1638513000,1638513300,1638513600,1638513900,1638514200,1638514500,1638514800,1638515100,1638515400,1638515700,1638516000,1638516300,1638516600,1638516900,1638517200,1638517500,1638517800,1638518100,1638518400,1638518700,1638519000,1638519300,1638519600,1638519900,1638520200,1638520500,1638520800,1638521100,1638521400,1638521811],\"previousClose\":4241552.0,\"chartPreviousClose\":4241552.0,\"end\":1638575940,\"start\":1638489600,\"close\":[4241558.0,4240905.0,4242801.5,4241624.5,4237707.0,4239971.5,4258474.0,4252814.0,4247579.5,4247003.0,4248558.5,4246139.5,4247663.5,4254494.0,4250554.5,4255622.5,4250257.5,4242606.0,4247764.0,4241372.5,4237666.5,4230747.5,4236176.0,4242646.0,4241105.5,4244054.5,4238608.5,4243130.0,4238149.5,4233695.5,4230957.5,4223401.5,4225821.5,4227011.5,4223359.0,4219360.0,4222340.0,4219628.5,4218051.0,4210366.0,4214366.5,4223604.5,4228389.5,4238718.5,4239345.5,4233452.5,4230115.0,4231437.0,4227866.5,4230582.5,4236369.0,4239547.5,4245924.0,4246033.5,4248520.5,4244630.5,4250124.0,4242911.0,4241720.5,4245092.5,4251544.0,4246816.5,4247262.5,4241738.0,4239739.5,4235621.5,4236530.0,4238920.5,4264245.5,4276282.5,4267096.5,4259164.0,4264803.0,4256678.5,4259010.0,4259991.5,4260097.0,4262317.0,4265791.5,4266877.0,4268302.5,4269460.5,4273765.0,4268590.0,4267402.5,4271616.5,4272155.0,4267094.5,4261102.5,4270270.5,4272009.0,4261962.5,4256482.0,4261493.5,4260878.0,4266710.0,4260695.5,4259059.0,4258190.0,4264360.5,4257053.5,4250752.0,4246516.5,4249550.5,4254129.0,4251638.5,4251107.0,4252234.5],\"dataGranularity\":300},\"priceHint\":2,\"tradeable\":false,\"sourceInterval\":15,\"exchange\":\"CCC\",\"region\":\"IN\",\"regularMarketPreviousClose\":{\"raw\":4241552.0,\"fmt\":\"4,241,552.00\"},\"triggerable\":false},{\"exchangeTimezoneName\":\"America/New_York\",\"fullExchangeName\":\"Nasdaq GIDS\",\"symbol\":\"^CMC200\",\"gmtOffSetMilliseconds\":-18000000,\"exchangeDataDelayedBy\":0,\"firstTradeDateMilliseconds\":1546266600000,\"language\":\"en-IN\",\"regularMarketTime\":{\"raw\":1638521853,\"fmt\":\"3:57AM EST\"},\"exchangeTimezoneShortName\":\"EST\",\"quoteType\":\"INDEX\",\"marketState\":\"PREPRE\",\"market\":\"us_market\",\"spark\":{\"symbol\":\"^CMC200\",\"timestamp\":[1638455400,1638455700,1638456000,1638456300,1638456600,1638456900,1638457200,1638457500,1638457800,1638458100,1638458400,1638458700,1638459000,1638459300,1638459600,1638459900,1638460200,1638460500,1638460800,1638461100,1638461400,1638461700,1638462000,1638462300,1638462600,1638462900,1638463200,1638463500,1638463800,1638464100,1638464400,1638464700,1638465000,1638465300,1638465600,1638465900,1638466200,1638466500,1638466800,1638467100,1638467400,1638467700,1638468000,1638468300,1638468600,1638468900,1638469200,1638469500,1638469800,1638470100,1638470400,1638470700,1638471000,1638471300,1638471600,1638471900,1638472200,1638472500,1638472800,1638473100,1638473400,1638473700,1638474000,1638474300,1638474600,1638474900,1638475200,1638475500,1638475800,1638476100,1638476400,1638476700,1638477000,1638477300,1638477600,1638477900,1638478200,1638478500],\"previousClose\":1438.8824,\"chartPreviousClose\":1438.8824,\"end\":1638478800,\"start\":1638455400,\"close\":[1439.0938,1443.2528,1449.1412,1451.44,1456.0027,1455.1663,1458.8896,1460.924,1456.9012,1451.8483,1444.9229,1446.7054,1447.1089,1438.0813,1437.5618,1438.2863,1439.996,1439.701,1441.5826,1443.371,1440.7699,1436.9021,1436.9797,1436.32,1433.9319,1432.3215,1434.1935,1429.1339,1430.1932,1431.7955,1435.0059,1434.3943,1437.8865,1438.9843,1439.9412,1438.5376,1438.2728,1438.7712,1440.936,1439.971,1440.052,1440.7874,1436.8907,1434.7896,1433.2614,1435.1622,1434.8077,1427.289,1428.0352,1433.1843,1435.2426,1432.637,1434.2887,1439.6908,1440.2604,1441.419,1441.9094,1445.3931,1444.0261,1442.3108,1442.6805,1439.4564,1439.8141,1440.9656,1439.1915,1440.9872,1439.7906,1442.2843,1442.2899,1445.8433,1443.1906,1447.7086,1449.3744,1450.775,1452.737,1448.3369,1446.8783,1448.9122],\"dataGranularity\":300},\"priceHint\":2,\"tradeable\":false,\"sourceInterval\":15,\"exchange\":\"NIM\",\"region\":\"IN\",\"shortName\":\"CMC Crypto 200\",\"regularMarketPreviousClose\":{\"raw\":1438.8824,\"fmt\":\"1,438.88\"},\"triggerable\":false},{\"exchangeTimezoneName\":\"Asia/Hong_Kong\",\"fullExchangeName\":\"HKSE\",\"symbol\":\"^HSI\",\"gmtOffSetMilliseconds\":28800000,\"exchangeDataDelayedBy\":0,\"firstTradeDateMilliseconds\":536376600000,\"language\":\"en-IN\",\"regularMarketTime\":{\"raw\":1638518932,\"fmt\":\"4:08PM HKT\"},\"exchangeTimezoneShortName\":\"HKT\",\"quoteType\":\"INDEX\",\"marketState\":\"POSTPOST\",\"market\":\"hk_market\",\"spark\":{\"symbol\":\"^HSI\",\"timestamp\":[1638495000,1638495300,1638495600,1638495900,1638496200,1638496500,1638496800,1638497100,1638497400,1638497700,1638498000,1638498300,1638498600,1638498900,1638499200,1638499500,1638499800,1638500100,1638500400,1638500700,1638501000,1638501300,1638501600,1638501900,1638502200,1638502500,1638502800,1638503100,1638503400,1638503700,1638504000,1638504300,1638507600,1638507900,1638508200,1638508500,1638508800,1638509100,1638509400,1638509700,1638510000,1638510300,1638510600,1638510900,1638511200,1638511500,1638511800,1638512100,1638512400,1638512700,1638513000,1638513300,1638513600,1638513900,1638514200,1638514500,1638514800,1638515100,1638515400,1638515700,1638516000,1638516300,1638516600,1638516900,1638517200,1638517500,1638517800,1638518100,1638518400,1638518700],\"previousClose\":23788.93,\"chartPreviousClose\":23788.93,\"end\":1638519000,\"start\":1638495000,\"close\":[23576.7,23540.13,23483.5,23483.69,23510.74,23516.39,23563.08,23548.7,23581.61,23566.99,23504.56,23492.19,23511.83,23521.41,23536.92,23556.4,23557.78,23551.47,23508.69,23504.29,23528.14,23541.08,23508.3,23538.93,23529.47,23553.36,23569.94,23591.97,23636.53,23611.76,23612.43,23612.43,23611.74,23601.23,23609.91,23627.48,23645.82,23671.56,23715.37,23777.24,23757.95,23749.59,23756.27,23742.25,23729.06,23752.33,23752.38,23757.61,23742.13,23752.43,23767.19,23760.27,23740.04,23765.35,23757.98,23729.4,23709.08,23671.74,23662.78,23670.49,23672.68,23677.55,23678.62,23683.82,23669.55,23665.14,23678.04,23714.98,23716.3,23716.3],\"dataGranularity\":300},\"priceHint\":2,\"tradeable\":false,\"sourceInterval\":15,\"exchange\":\"HKG\",\"region\":\"IN\",\"shortName\":\"Hang Seng\",\"regularMarketPreviousClose\":{\"raw\":23788.93,\"fmt\":\"23,788.93\"},\"triggerable\":false},{\"exchangeTimezoneName\":\"Asia/Tokyo\",\"fullExchangeName\":\"Osaka\",\"symbol\":\"^N225\",\"gmtOffSetMilliseconds\":32400000,\"exchangeDataDelayedBy\":0,\"firstTradeDateMilliseconds\":-157420800000,\"language\":\"en-IN\",\"regularMarketTime\":{\"raw\":1638512102,\"fmt\":\"3:15PM JST\"},\"exchangeTimezoneShortName\":\"JST\",\"quoteType\":\"INDEX\",\"marketState\":\"POSTPOST\",\"market\":\"jp_market\",\"spark\":{\"symbol\":\"^N225\",\"timestamp\":[1638489600,1638489900,1638490200,1638490500,1638490800,1638491100,1638491400,1638491700,1638492000,1638492300,1638492600,1638492900,1638493200,1638493500,1638493800,1638494100,1638494400,1638494700,1638495000,1638495300,1638495600,1638495900,1638496200,1638496500,1638496800,1638497100,1638497400,1638497700,1638498000,1638498300,1638498600,1638498900,1638502200,1638502500,1638502800,1638503100,1638503400,1638503700,1638504000,1638504300,1638504600,1638504900,1638505200,1638505500,1638505800,1638506100,1638506400,1638506700,1638507000,1638507300,1638507600,1638507900,1638508200,1638508500,1638508800,1638509100,1638509400,1638509700,1638510000,1638510300,1638510600,1638510900,1638511200],\"previousClose\":27753.37,\"chartPreviousClose\":27753.37,\"end\":1638511200,\"start\":1638489600,\"close\":[27734.43,27714.06,27667.1,27719.75,27678.59,27755.99,27769.83,27751.78,27779.43,27766.95,27738.65,27765.75,27779.33,27797.75,27771.0,27788.92,27763.6,27751.56,27723.24,27674.18,27635.49,27634.84,27680.74,27692.6,27702.46,27692.8,27726.67,27712.73,27677.74,27689.27,27692.34,27692.34,27735.8,27790.3,27820.34,27860.83,27867.76,27828.58,27871.1,27847.78,27850.13,27846.49,27827.06,27820.58,27864.71,27853.76,27968.05,27930.87,27903.52,27921.32,27911.11,27907.81,27918.6,27937.56,27959.1,27934.31,27952.41,28007.43,28003.46,28009.32,28012.79,28006.91,28029.57],\"dataGranularity\":300},\"priceHint\":2,\"tradeable\":false,\"sourceInterval\":20,\"exchange\":\"OSA\",\"region\":\"IN\",\"shortName\":\"Nikkei\",\"regularMarketPreviousClose\":{\"raw\":27753.37,\"fmt\":\"27,753.37\"},\"triggerable\":false},{\"exchangeTimezoneName\":\"Europe/London\",\"fullExchangeName\":\"CCY\",\"symbol\":\"EURINR=X\",\"gmtOffSetMilliseconds\":0,\"exchangeDataDelayedBy\":0,\"firstTradeDateMilliseconds\":1070236800000,\"language\":\"en-US\",\"regularMarketTime\":{\"raw\":1638521845,\"fmt\":\"8:57AM GMT\"},\"exchangeTimezoneShortName\":\"GMT\",\"quoteType\":\"CURRENCY\",\"marketState\":\"REGULAR\",\"market\":\"ccy_market\",\"spark\":{\"symbol\":\"EURINR=X\",\"timestamp\":[1638501300,1638501600,1638501900,1638502200,1638502500,1638502800,1638503100,1638503400,1638503700,1638504000,1638504300,1638504600,1638504900,1638505200,1638505500,1638505800,1638506100,1638506400,1638506700,1638507000,1638507300,1638507600,1638507900,1638508200,1638508500,1638508800,1638509100,1638509400,1638509700,1638510000,1638510300,1638510600,1638510900,1638511200,1638511500,1638511800,1638512100,1638512400,1638512700,1638513000,1638513300,1638513600,1638513900,1638514200,1638514500,1638514800,1638515100,1638515400,1638515700,1638516000,1638516300,1638516600,1638516900,1638517200,1638517500,1638517800,1638518100,1638518400,1638518700,1638519000,1638519300,1638519600,1638519900,1638520200,1638520500,1638520800,1638521100,1638521400,1638521700,1638521845],\"previousClose\":84.7438,\"chartPreviousClose\":84.7438,\"end\":1638575940,\"start\":1638489600,\"close\":[84.7454,84.7834,84.7883,84.7917,84.7651,84.7662,84.7545,84.7305,84.7286,84.7414,84.7338,84.7455,84.7447,84.7255,84.748,84.7406,84.7237,84.6851,84.6843,84.6833,84.7331,84.7488,84.7096,84.7096,84.6908,84.6663,84.7209,84.7001,84.6898,84.7112,84.7068,84.7377,84.7807,84.7312,84.7387,84.7209,84.7059,84.6908,84.6805,84.6758,84.6843,84.6777,84.6609,84.6478,84.6731,84.6723,84.6733,84.6733,84.677,84.6742,84.6808,84.7258,84.6995,84.6995,84.6844,84.692,84.7634,84.7511,84.7662,84.7906,84.8038,84.8084,84.8038,84.8437,84.8272,84.8118,84.7973,84.772,84.7767,84.7964],\"dataGranularity\":300},\"priceHint\":4,\"tradeable\":false,\"sourceInterval\":15,\"exchange\":\"CCY\",\"region\":\"US\",\"shortName\":\"EUR/INR\",\"regularMarketPreviousClose\":{\"raw\":84.7438,\"fmt\":\"84.7438\"},\"triggerable\":false},{\"exchangeTimezoneName\":\"Europe/London\",\"fullExchangeName\":\"CCY\",\"symbol\":\"GBPINR=X\",\"gmtOffSetMilliseconds\":0,\"exchangeDataDelayedBy\":0,\"firstTradeDateMilliseconds\":1147734000000,\"language\":\"en-US\",\"regularMarketTime\":{\"raw\":1638521845,\"fmt\":\"8:57AM GMT\"},\"exchangeTimezoneShortName\":\"GMT\",\"quoteType\":\"CURRENCY\",\"marketState\":\"REGULAR\",\"market\":\"ccy_market\",\"spark\":{\"symbol\":\"GBPINR=X\",\"timestamp\":[1638501300,1638501600,1638501900,1638502200,1638502500,1638502800,1638503100,1638503400,1638503700,1638504000,1638504300,1638504600,1638504900,1638505200,1638505500,1638505800,1638506100,1638506400,1638506700,1638507000,1638507300,1638507600,1638507900,1638508200,1638508500,1638508800,1638509100,1638509400,1638509700,1638510000,1638510300,1638510600,1638510900,1638511200,1638511500,1638511800,1638512100,1638512400,1638512700,1638513000,1638513300,1638513600,1638513900,1638514200,1638514500,1638514800,1638515100,1638515400,1638515700,1638516000,1638516300,1638516600,1638516900,1638517200,1638517500,1638517800,1638518100,1638518400,1638518700,1638519000,1638519300,1638519600,1638519900,1638520200,1638520500,1638520800,1638521100,1638521400,1638521700,1638521845],\"previousClose\":99.6947,\"chartPreviousClose\":99.6947,\"end\":1638575940,\"start\":1638489600,\"close\":[99.6026,99.661,99.6591,99.6727,99.6482,99.6621,99.6415,99.6335,99.6201,99.6453,99.6403,99.6556,99.6359,99.6067,99.6224,99.6666,99.6542,99.6327,99.6193,99.6168,99.6741,99.6379,99.6376,99.6376,99.6243,99.6119,99.6343,99.6701,99.6668,99.6472,99.6868,99.7042,99.6937,99.6917,99.7217,99.7034,99.6959,99.6768,99.6585,99.6468,99.6643,99.6592,99.6509,99.6633,99.6135,99.6498,99.6523,99.6448,99.6315,99.6131,99.6297,99.6158,99.594,99.6015,99.5674,99.5714,99.6638,99.6406,99.6446,99.6755,99.6862,99.6938,99.6896,99.6579,99.6733,99.6483,99.6776,99.6893,99.701,99.7052],\"dataGranularity\":300},\"priceHint\":4,\"tradeable\":false,\"sourceInterval\":15,\"exchange\":\"CCY\",\"region\":\"US\",\"shortName\":\"GBP/INR\",\"regularMarketPreviousClose\":{\"raw\":99.6947,\"fmt\":\"99.6947\"},\"triggerable\":false},{\"exchangeTimezoneName\":\"Europe/London\",\"fullExchangeName\":\"CCY\",\"symbol\":\"AEDINR=X\",\"gmtOffSetMilliseconds\":0,\"exchangeDataDelayedBy\":0,\"firstTradeDateMilliseconds\":1115161200000,\"language\":\"en-US\",\"regularMarketTime\":{\"raw\":1638488339,\"fmt\":\"11:38PM GMT\"},\"exchangeTimezoneShortName\":\"GMT\",\"quoteType\":\"CURRENCY\",\"marketState\":\"REGULAR\",\"market\":\"ccy_market\",\"spark\":{\"symbol\":\"AEDINR=X\",\"timestamp\":[],\"previousClose\":20.365,\"chartPreviousClose\":20.365,\"end\":null,\"start\":null,\"close\":null,\"dataGranularity\":300},\"priceHint\":4,\"tradeable\":false,\"sourceInterval\":15,\"exchange\":\"CCY\",\"region\":\"US\",\"shortName\":\"AED/INR\",\"regularMarketPreviousClose\":{\"raw\":20.365,\"fmt\":\"20.3650\"},\"triggerable\":false},{\"exchangeTimezoneName\":\"Europe/London\",\"fullExchangeName\":\"CCY\",\"symbol\":\"INRJPY=X\",\"gmtOffSetMilliseconds\":0,\"exchangeDataDelayedBy\":0,\"firstTradeDateMilliseconds\":1070236800000,\"language\":\"en-US\",\"regularMarketTime\":{\"raw\":1638521636,\"fmt\":\"8:53AM GMT\"},\"exchangeTimezoneShortName\":\"GMT\",\"quoteType\":\"CURRENCY\",\"marketState\":\"REGULAR\",\"market\":\"ccy_market\",\"spark\":{\"symbol\":\"INRJPY=X\",\"timestamp\":[1638501300,1638501600,1638502200,1638502500,1638502800,1638503100,1638503400,1638503700,1638504000,1638504300,1638504600,1638504900,1638505200,1638505500,1638505800,1638506100,1638506400,1638506700,1638507000,1638507300,1638507600,1638507900,1638508200,1638508500,1638508800,1638509100,1638509400,1638509700,1638510000,1638510300,1638510600,1638510900,1638511200,1638511500,1638511800,1638512100,1638512400,1638512700,1638513000,1638513300,1638513600,1638513900,1638514200,1638514500,1638514800,1638515100,1638515400,1638515700,1638516000,1638516300,1638516600,1638516900,1638517200,1638517500,1638517800,1638518100,1638518400,1638518700,1638519000,1638519300,1638519600,1638519900,1638520200,1638520500,1638520800,1638521100,1638521636],\"previousClose\":1.5069,\"chartPreviousClose\":1.5069,\"end\":1638575940,\"start\":1638489600,\"close\":[1.5056,1.5048,1.505,1.5054,1.5055,1.5058,1.5062,1.5062,1.5061,1.5061,1.5058,1.5058,1.5066,1.5063,1.5061,1.5061,1.5068,1.507,1.5069,1.507,1.5068,1.5068,1.5067,1.507,1.508,1.5076,1.5078,1.5074,1.508,1.508,1.5074,1.5069,1.5074,1.507,1.5066,1.5072,1.5073,1.5071,1.5078,1.5075,1.5077,1.5073,1.5075,1.5079,1.5073,1.5076,1.5077,1.5074,1.5071,1.5073,1.5071,1.5078,1.5073,1.5075,1.5084,1.508,1.508,1.5078,1.5082,1.5078,1.508,1.5087,1.5076,1.5076,1.5075,1.5071,1.5076],\"dataGranularity\":300},\"priceHint\":4,\"tradeable\":false,\"sourceInterval\":15,\"exchange\":\"CCY\",\"region\":\"US\",\"shortName\":\"INR/JPY\",\"regularMarketPreviousClose\":{\"raw\":1.5069,\"fmt\":\"1.5069\"},\"triggerable\":false},{\"exchangeTimezoneName\":\"Europe/London\",\"fullExchangeName\":\"CCY\",\"symbol\":\"SGDINR=X\",\"gmtOffSetMilliseconds\":0,\"exchangeDataDelayedBy\":0,\"firstTradeDateMilliseconds\":1070236800000,\"language\":\"en-US\",\"regularMarketTime\":{\"raw\":1638521636,\"fmt\":\"8:53AM GMT\"},\"exchangeTimezoneShortName\":\"GMT\",\"quoteType\":\"CURRENCY\",\"marketState\":\"REGULAR\",\"market\":\"ccy_market\",\"spark\":{\"symbol\":\"SGDINR=X\",\"timestamp\":[1638501300,1638501600,1638501900,1638502200,1638502500,1638502800,1638503100,1638503400,1638503700,1638504000,1638504300,1638504600,1638504900,1638505200,1638505500,1638505800,1638506100,1638506400,1638506700,1638507000,1638507300,1638507600,1638507900,1638508200,1638508500,1638508800,1638509100,1638509400,1638509700,1638510000,1638510300,1638510600,1638510900,1638511200,1638511500,1638511800,1638512400,1638512700,1638513000,1638513300,1638513600,1638513900,1638514200,1638514500,1638514800,1638515100,1638515400,1638515700,1638516000,1638516300,1638516600,1638516900,1638517200,1638517500,1638517800,1638518100,1638518400,1638518700,1638519000,1638519300,1638519600,1638519900,1638520200,1638520500,1638520800,1638521100,1638521636],\"previousClose\":54.78,\"chartPreviousClose\":54.78,\"end\":1638575940,\"start\":1638489600,\"close\":[54.749,54.769,54.763,54.775,54.772,54.781,54.778,54.777,54.765,54.776,54.766,54.771,54.769,54.763,54.771,54.782,54.775,54.757,54.757,54.76,54.776,54.782,54.783,54.78,54.772,54.765,54.785,54.773,54.787,54.778,54.776,54.801,54.813,54.796,54.808,54.829,54.801,54.796,54.776,54.786,54.777,54.78,54.786,54.786,54.783,54.787,54.758,54.766,54.769,54.771,54.776,54.758,54.774,54.761,54.742,54.766,54.761,54.784,54.775,54.798,54.785,54.79,54.792,54.79,54.781,54.797,54.782],\"dataGranularity\":300},\"priceHint\":4,\"tradeable\":false,\"sourceInterval\":15,\"exchange\":\"CCY\",\"region\":\"US\",\"shortName\":\"SGD/INR\",\"regularMarketPreviousClose\":{\"raw\":54.78,\"fmt\":\"54.7800\"},\"triggerable\":false}],\"error\":null}}\n"
     ]
    }
   ],
   "source": [
    "url = \"https://yh-finance.p.rapidapi.com/market/v2/get-summary\"\n",
    "\n",
    "querystring = {\"region\":\"IN\"}\n",
    "\n",
    "headers = {\n",
    "    'x-rapidapi-host': \"yh-finance.p.rapidapi.com\",\n",
    "    'x-rapidapi-key': \"7a19c1191dmsh541ae74fcd60759p1c1d68jsnfe0e28b393c8\"\n",
    "    }\n",
    "\n",
    "response = requests.request(\"GET\", url, headers=headers, params=querystring)\n",
    "\n",
    "print(response.text)"
   ]
  },
  {
   "cell_type": "code",
   "execution_count": 115,
   "metadata": {},
   "outputs": [
    {
     "name": "stdout",
     "output_type": "stream",
     "text": [
      "{\"finance\":{\"result\":[{\"count\":1,\"quotes\":[{\"language\":\"en-US\",\"region\":\"US\",\"quoteType\":\"INDEX\",\"triggerable\":true,\"quoteSourceName\":\"Delayed Quote\",\"market\":\"us_market\",\"priceHint\":2,\"sourceInterval\":120,\"exchangeTimezoneName\":\"America/New_York\",\"exchangeTimezoneShortName\":\"EST\",\"gmtOffSetMilliseconds\":-18000000,\"fullExchangeName\":\"DJI\",\"shortName\":\"Dow Jones Industrial Average\",\"marketState\":\"PRE\",\"regularMarketPrice\":34639.79,\"regularMarketTime\":1638482930,\"regularMarketChange\":617.75,\"esgPopulated\":false,\"tradeable\":false,\"regularMarketChangePercent\":1.8157347,\"regularMarketPreviousClose\":34022.04,\"exchangeDataDelayedBy\":0,\"exchange\":\"DJI\",\"symbol\":\"^DJI\"}],\"jobTimestamp\":1629925801691,\"startInterval\":202108252000}],\"error\":null}}\n"
     ]
    }
   ],
   "source": [
    "url = \"https://yh-finance.p.rapidapi.com/market/get-trending-tickers\"\n",
    "\n",
    "querystring = {\"region\":\"IN\"}\n",
    "\n",
    "headers = {\n",
    "    'x-rapidapi-host': \"yh-finance.p.rapidapi.com\",\n",
    "    'x-rapidapi-key': \"7a19c1191dmsh541ae74fcd60759p1c1d68jsnfe0e28b393c8\"\n",
    "    }\n",
    "\n",
    "response = requests.request(\"GET\", url, headers=headers, params=querystring)\n",
    "\n",
    "print(response.text)"
   ]
  },
  {
   "cell_type": "code",
   "execution_count": null,
   "metadata": {},
   "outputs": [],
   "source": []
  }
 ],
 "metadata": {
  "kernelspec": {
   "display_name": "Python 3",
   "language": "python",
   "name": "python3"
  },
  "language_info": {
   "codemirror_mode": {
    "name": "ipython",
    "version": 3
   },
   "file_extension": ".py",
   "mimetype": "text/x-python",
   "name": "python",
   "nbconvert_exporter": "python",
   "pygments_lexer": "ipython3",
   "version": "3.7.3"
  }
 },
 "nbformat": 4,
 "nbformat_minor": 2
}
